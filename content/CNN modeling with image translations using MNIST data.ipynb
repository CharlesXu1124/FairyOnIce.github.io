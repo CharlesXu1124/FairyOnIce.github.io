{
 "cells": [
  {
   "cell_type": "markdown",
   "metadata": {
    "collapsed": true
   },
   "source": [
    "In this blog, I train a standard CNN model on the MNIST data and assess its performance."
   ]
  },
  {
   "cell_type": "code",
   "execution_count": 1,
   "metadata": {},
   "outputs": [
    {
     "name": "stderr",
     "output_type": "stream",
     "text": [
      "Using TensorFlow backend.\n"
     ]
    },
    {
     "name": "stdout",
     "output_type": "stream",
     "text": [
      "python 2.7.13 |Anaconda 4.3.1 (64-bit)| (default, Dec 20 2016, 23:09:15) \n",
      "[GCC 4.4.7 20120313 (Red Hat 4.4.7-1)]\n",
      "keras version 2.0.6\n",
      "tensorflow version 1.2.1\n"
     ]
    }
   ],
   "source": [
    "import matplotlib.pyplot as plt\n",
    "import tensorflow as tf\n",
    "from keras.backend.tensorflow_backend import set_session\n",
    "import keras\n",
    "import sys\n",
    "print(\"python {}\".format(sys.version))\n",
    "print(\"keras version {}\".format(keras.__version__))\n",
    "print(\"tensorflow version {}\".format(tf.__version__))\n",
    "config = tf.ConfigProto()\n",
    "config.gpu_options.per_process_gpu_memory_fraction = 0.95\n",
    "config.gpu_options.visible_device_list = \"3\"\n",
    "#### 2 GPU1\n",
    "#### 3 GPU2\n",
    "#### 0 GPU3\n",
    "#### 4 GPU4\n",
    "\n",
    "set_session(tf.Session(config=config))"
   ]
  },
  {
   "cell_type": "code",
   "execution_count": 2,
   "metadata": {},
   "outputs": [
    {
     "name": "stdout",
     "output_type": "stream",
     "text": [
      "((60000, 28, 28, 1), (10000, 28, 28, 1), (60000, 10), (10000, 10))\n"
     ]
    }
   ],
   "source": [
    "from mnist import MNIST\n",
    "import numpy as np\n",
    "from keras.utils import to_categorical\n",
    "\n",
    "mndata = MNIST('./MNIST_data/')\n",
    "\n",
    "images, labels = mndata.load_training()\n",
    "x_train, y_train = np.array(images),np.array(labels)\n",
    "\n",
    "images, labels = mndata.load_testing()\n",
    "x_test, y_test = np.array(images),np.array(labels)\n",
    "\n",
    "\n",
    "x_train = x_train.reshape(-1, 28, 28, 1).astype('float32') / 255.\n",
    "x_test = x_test.reshape(-1, 28, 28, 1).astype('float32') / 255.\n",
    "y_train = to_categorical(y_train.astype('float32'))\n",
    "y_test = to_categorical(y_test.astype('float32'))\n",
    "print(x_train.shape,x_test.shape,y_train.shape,y_test.shape)"
   ]
  },
  {
   "cell_type": "markdown",
   "metadata": {},
   "source": [
    "## CNN model\n",
    "I define a standard CNN with three convolutional layers of 256, 256, 128 channels.\n",
    "Each has 5x5 kernels and stride of 1.\n",
    "The last convolutional layers are followed by two fully connected layers of size 328, 192.\n",
    "The last fully connected layer is connected with dropout to a 10 class softmax layer with cross entropy loss.\n",
    "\n",
    "According to [Recent Hinton's paper](https://arxiv.org/pdf/1710.09829.pdf), \"[This model] is designed to achieve the best performance on MNIST\" when model complexity is at this level. This model contains 35M parameters.\n"
   ]
  },
  {
   "cell_type": "code",
   "execution_count": 3,
   "metadata": {},
   "outputs": [
    {
     "name": "stdout",
     "output_type": "stream",
     "text": [
      "_________________________________________________________________\n",
      "Layer (type)                 Output Shape              Param #   \n",
      "=================================================================\n",
      "conv2d_1 (Conv2D)            (None, 28, 28, 256)       6656      \n",
      "_________________________________________________________________\n",
      "conv2d_2 (Conv2D)            (None, 28, 28, 256)       1638656   \n",
      "_________________________________________________________________\n",
      "conv2d_3 (Conv2D)            (None, 28, 28, 128)       819328    \n",
      "_________________________________________________________________\n",
      "flatten_1 (Flatten)          (None, 100352)            0         \n",
      "_________________________________________________________________\n",
      "dense_1 (Dense)              (None, 328)               32915784  \n",
      "_________________________________________________________________\n",
      "dense_2 (Dense)              (None, 192)               63168     \n",
      "_________________________________________________________________\n",
      "dropout_1 (Dropout)          (None, 192)               0         \n",
      "_________________________________________________________________\n",
      "dense_3 (Dense)              (None, 10)                1930      \n",
      "_________________________________________________________________\n",
      "output (Activation)          (None, 10)                0         \n",
      "=================================================================\n",
      "Total params: 35,445,522\n",
      "Trainable params: 35,445,522\n",
      "Non-trainable params: 0\n",
      "_________________________________________________________________\n"
     ]
    }
   ],
   "source": [
    "from keras.layers import Conv2D, MaxPooling2D,Flatten, Dropout, Activation, Dense\n",
    "from keras.models import Sequential\n",
    "from keras import optimizers\n",
    "from numpy.random import seed\n",
    "from tensorflow import set_random_seed\n",
    "\n",
    "\n",
    "def StandardCNN(withDropout=False,\n",
    "              n_class=10,\n",
    "              input_shape = (96, 96, 1)):\n",
    "    '''\n",
    "    WithDropout: If True, then dropout regularlization is added.\n",
    "    This feature is experimented later.\n",
    "    '''\n",
    "    model = Sequential()\n",
    "    model.add(Conv2D(256,(5, 5), strides=1,\n",
    "                     activation=\"relu\",padding=\"same\",\n",
    "                     input_shape = input_shape))## 96 - 3 + 2\n",
    "    #model.add(MaxPooling2D(pool_size = (2,2))) ## 96 - (3-1)*2\n",
    "        \n",
    "    model.add(Conv2D(256,(5, 5), strides=1,\n",
    "                     activation=\"relu\", padding=\"same\"\n",
    "                    ))\n",
    "    #model.add(MaxPooling2D(pool_size = (2,2)))\n",
    "    \n",
    "    model.add(Conv2D(128,(5, 5), strides=1,\n",
    "                     activation=\"relu\", padding=\"same\"\n",
    "                    ))\n",
    "    #model.add(MaxPooling2D(pool_size=(2,2)))\n",
    "        \n",
    "    model.add(Flatten())\n",
    "    \n",
    "    model.add(Dense(328,activation='relu'))\n",
    "\n",
    "        \n",
    "    model.add(Dense(192,activation='relu'))\n",
    "    ## 1024, 2048, 4096,8192\n",
    "    model.add(Dropout(0.5))\n",
    "        \n",
    "    model.add(Dense(n_class))\n",
    "    model.add(Activation('softmax',name=\"output\"))\n",
    "    model.compile(loss=\"categorical_crossentropy\",\n",
    "                  optimizer=optimizers.Adam(lr=0.0005),\n",
    "                 metrics={'output': 'accuracy'})\n",
    "    return(model)\n",
    "\n",
    "model = StandardCNN(input_shape = (28, 28, 1))\n",
    "model.summary()"
   ]
  },
  {
   "cell_type": "markdown",
   "metadata": {},
   "source": [
    "#### Training\n",
    "We set the number of epochs to be 20."
   ]
  },
  {
   "cell_type": "code",
   "execution_count": 4,
   "metadata": {
    "scrolled": false
   },
   "outputs": [
    {
     "name": "stderr",
     "output_type": "stream",
     "text": [
      "/home/fairy/anaconda2/lib/python2.7/site-packages/keras/models.py:844: UserWarning: The `nb_epoch` argument in `fit` has been renamed `epochs`.\n",
      "  warnings.warn('The `nb_epoch` argument in `fit` '\n"
     ]
    },
    {
     "name": "stdout",
     "output_type": "stream",
     "text": [
      "Train on 60000 samples, validate on 10000 samples\n",
      "Epoch 1/20\n",
      "52s - loss: 0.1395 - acc: 0.9581 - val_loss: 0.0349 - val_acc: 0.9884\n",
      "Epoch 2/20\n",
      "51s - loss: 0.0480 - acc: 0.9862 - val_loss: 0.0340 - val_acc: 0.9889\n",
      "Epoch 3/20\n",
      "51s - loss: 0.0308 - acc: 0.9907 - val_loss: 0.0261 - val_acc: 0.9924\n",
      "Epoch 4/20\n",
      "51s - loss: 0.0235 - acc: 0.9933 - val_loss: 0.0336 - val_acc: 0.9912\n",
      "Epoch 5/20\n",
      "51s - loss: 0.0183 - acc: 0.9948 - val_loss: 0.0345 - val_acc: 0.9911\n",
      "Epoch 6/20\n",
      "50s - loss: 0.0138 - acc: 0.9958 - val_loss: 0.0326 - val_acc: 0.9916\n",
      "Epoch 7/20\n",
      "50s - loss: 0.0109 - acc: 0.9969 - val_loss: 0.0280 - val_acc: 0.9918\n",
      "Epoch 8/20\n",
      "50s - loss: 0.0097 - acc: 0.9974 - val_loss: 0.0373 - val_acc: 0.9915\n",
      "Epoch 9/20\n",
      "50s - loss: 0.0082 - acc: 0.9978 - val_loss: 0.0449 - val_acc: 0.9911\n",
      "Epoch 10/20\n",
      "50s - loss: 0.0075 - acc: 0.9977 - val_loss: 0.0413 - val_acc: 0.9908\n",
      "Epoch 11/20\n",
      "50s - loss: 0.0065 - acc: 0.9984 - val_loss: 0.0324 - val_acc: 0.9914\n",
      "Epoch 12/20\n",
      "50s - loss: 0.0081 - acc: 0.9976 - val_loss: 0.0345 - val_acc: 0.9922\n",
      "Epoch 13/20\n",
      "50s - loss: 0.0041 - acc: 0.9989 - val_loss: 0.0456 - val_acc: 0.9906\n",
      "Epoch 14/20\n",
      "51s - loss: 0.0052 - acc: 0.9986 - val_loss: 0.0525 - val_acc: 0.9892\n",
      "Epoch 15/20\n",
      "51s - loss: 0.0046 - acc: 0.9987 - val_loss: 0.0429 - val_acc: 0.9922\n",
      "Epoch 16/20\n",
      "50s - loss: 0.0028 - acc: 0.9992 - val_loss: 0.0453 - val_acc: 0.9925\n",
      "Epoch 17/20\n",
      "50s - loss: 0.0061 - acc: 0.9985 - val_loss: 0.0521 - val_acc: 0.9908\n",
      "Epoch 18/20\n",
      "50s - loss: 0.0065 - acc: 0.9985 - val_loss: 0.0413 - val_acc: 0.9931\n",
      "Epoch 19/20\n",
      "50s - loss: 0.0020 - acc: 0.9995 - val_loss: 0.0392 - val_acc: 0.9929\n",
      "Epoch 20/20\n",
      "50s - loss: 0.0055 - acc: 0.9988 - val_loss: 0.0516 - val_acc: 0.9917\n",
      "CPU times: user 13min 8s, sys: 1min 56s, total: 15min 5s\n",
      "Wall time: 16min 57s\n"
     ]
    }
   ],
   "source": [
    "%%time\n",
    "\n",
    "seed(1)\n",
    "set_random_seed(1)\n",
    "\n",
    "hist1 = model.fit(x_train,\n",
    "                 y_train,\n",
    "                 batch_size=64,\n",
    "                 nb_epoch=20,\n",
    "                 validation_data=[x_test, y_test],verbose=2)"
   ]
  },
  {
   "cell_type": "markdown",
   "metadata": {},
   "source": [
    "The back propagation algorithm seems to converge."
   ]
  },
  {
   "cell_type": "code",
   "execution_count": 5,
   "metadata": {},
   "outputs": [
    {
     "data": {
      "image/png": "[encoded data removed]",
      "text/plain": [
       "<matplotlib.figure.Figure at 0x7efb75f86a50>"
      ]
     },
     "metadata": {},
     "output_type": "display_data"
    }
   ],
   "source": [
    "for label in [\"val_acc\",\"acc\"]:\n",
    "    plt.plot(hist1.history[label],label=label)\n",
    "plt.xlabel(\"epoch\")\n",
    "plt.ylabel(\"accuracy\")\n",
    "plt.title(\"validation accuracy, model1:{:6.5f}\".format(\n",
    "    hist1.history[\"val_acc\"][-1]))\n",
    "plt.legend()\n",
    "plt.ylim(0.95,1.005)\n",
    "plt.show()"
   ]
  },
  {
   "cell_type": "markdown",
   "metadata": {},
   "source": [
    "# Train the model with data augmentation\n",
    "I now train the same model with image translation.\n",
    "\"translation of image\" means shifting image by costant value to right, left, up or down, or some combinations of these.\n",
    "\n",
    "Keras provides the ImageDataGenerator class that defines the configuration for image data preparation and augmentation.\n",
    "Rather than performing the operations on your entire image dataset in memory, the ImageDataGenerator API is designed to be iterated by the deep learning model fitting process, creating augmented image data for you just-in-time. \n",
    "This reduces your memory overhead, but adds some additional time cost during model training.\n",
    "\n",
    "I discussed the useage of ImageDataGenerator in [previous blog post](https://fairyonice.github.io/Learn%20about%20ImageDataGenerator.html).\n",
    "I also found [Jason Brownlee's blog](https://machinelearningmastery.com/image-augmentation-deep-learning-keras/) is very useful for learning ImageDataGenerator.\n",
    "\n",
    "##  train_generator\n",
    "First, define train_generator method which infenitely return training and testing batch.\n",
    "batch_size determines the batch size.\n",
    "generator.next() randomly select batch_size many samples from x_train, \n",
    "then the random transformation is applied to the selected images.\n",
    "\n",
    "If the x_train.shape[0] < batch_size, the returned batch_size is x_train.shape[0]."
   ]
  },
  {
   "cell_type": "code",
   "execution_count": 6,
   "metadata": {
    "collapsed": true
   },
   "outputs": [],
   "source": [
    "from keras.preprocessing.image import ImageDataGenerator\n",
    "\n",
    "def train_generator(x, y, batch_size, shift_fraction=0.):\n",
    "        train_datagen = ImageDataGenerator( width_shift_range=shift_fraction,\n",
    "                                           height_shift_range=shift_fraction)  # shift up to 2 pixel for MNIST\n",
    "        generator = train_datagen.flow(x, y, batch_size=batch_size)\n",
    "        while 1:\n",
    "            x_batch, y_batch = generator.next()\n",
    "            ## x_batch.shape = (bsize,28,28,1)\n",
    "            ## where bsize = np.min(batch_size,x.shape[0])\n",
    "            yield ([x_batch, y_batch])"
   ]
  },
  {
   "cell_type": "markdown",
   "metadata": {},
   "source": [
    "The following code shows the images generated by train_generator when only 5 images are fed into the train_generator.\n",
    "Although the batch_size is set to 1,000, every batch only yields 5 transformed images, and original image is transoformed only once.\n"
   ]
  },
  {
   "cell_type": "code",
   "execution_count": 7,
   "metadata": {},
   "outputs": [
    {
     "name": "stdout",
     "output_type": "stream",
     "text": [
      "((5, 28, 28, 1), (5, 10))\n"
     ]
    },
    {
     "data": {
      "image/png": "[encoded data removed]",
      "text/plain": [
       "<matplotlib.figure.Figure at 0x7efb758352d0>"
      ]
     },
     "metadata": {},
     "output_type": "display_data"
    },
    {
     "name": "stdout",
     "output_type": "stream",
     "text": [
      "((5, 28, 28, 1), (5, 10))\n"
     ]
    },
    {
     "data": {
      "image/png": "[encoded data removed]",
      "text/plain": [
       "<matplotlib.figure.Figure at 0x7efb60058e50>"
      ]
     },
     "metadata": {},
     "output_type": "display_data"
    }
   ],
   "source": [
    "def plot_sample(x_train,y_train,batch_size,shift_fraction=0.4):\n",
    "    count = 0 \n",
    "    for generator in train_generator(x_train, y_train, batch_size, shift_fraction):\n",
    "        x_tra, y_tra = generator\n",
    "        count += 1\n",
    "        if count > 0:\n",
    "            break\n",
    "        \n",
    "    print(x_tra.shape,y_tra.shape)\n",
    "    \n",
    "    n = 5\n",
    "    fig = plt.figure(figsize=(10,10))        \n",
    "    for i in range(x_tra.shape[0]):    \n",
    "        ax = fig.add_subplot(n,n,i+1)\n",
    "        ax.imshow(x_tra[i].reshape(28,28))\n",
    "        if (n*n) < (i + 2):\n",
    "            break\n",
    "    plt.show()\n",
    "    \n",
    "plot_sample(x_train[:5],y_train[:5],batch_size=1000,shift_fraction=0.4)\n",
    "plot_sample(x_train[:5],y_train[:5],batch_size=1000,shift_fraction=0.4)"
   ]
  },
  {
   "cell_type": "markdown",
   "metadata": {},
   "source": [
    "## Model training\n",
    "\n",
    "\n",
    "I will set the shift_fraction = 0.1.\n",
    "This means that each image is shifted at most 3 pixels (28x0.1 = 2.8).\n",
    "I noticed that fit_generator causes error messages when steps_per_epoch is NOT specified. This is \"Total number of steps (batches of samples) before declaring one epoch finished and starting the next epoch.\""
   ]
  },
  {
   "cell_type": "code",
   "execution_count": 8,
   "metadata": {},
   "outputs": [
    {
     "name": "stdout",
     "output_type": "stream",
     "text": [
      "Epoch 1/20\n",
      "51s - loss: 0.2261 - acc: 0.9295 - val_loss: 0.0298 - val_acc: 0.9899\n",
      "Epoch 2/20\n",
      "50s - loss: 0.0744 - acc: 0.9790 - val_loss: 0.0329 - val_acc: 0.9884\n",
      "Epoch 3/20\n",
      "50s - loss: 0.0512 - acc: 0.9858 - val_loss: 0.0330 - val_acc: 0.9900\n",
      "Epoch 4/20\n",
      "50s - loss: 0.0418 - acc: 0.9879 - val_loss: 0.0280 - val_acc: 0.9911\n",
      "Epoch 5/20\n",
      "50s - loss: 0.0380 - acc: 0.9890 - val_loss: 0.0191 - val_acc: 0.9939\n",
      "Epoch 6/20\n",
      "50s - loss: 0.0332 - acc: 0.9908 - val_loss: 0.0206 - val_acc: 0.9934\n",
      "Epoch 7/20\n",
      "50s - loss: 0.0292 - acc: 0.9913 - val_loss: 0.0276 - val_acc: 0.9924\n",
      "Epoch 8/20\n",
      "50s - loss: 0.0267 - acc: 0.9927 - val_loss: 0.0195 - val_acc: 0.9936\n",
      "Epoch 9/20\n",
      "50s - loss: 0.0247 - acc: 0.9928 - val_loss: 0.0166 - val_acc: 0.9949\n",
      "Epoch 10/20\n",
      "50s - loss: 0.0212 - acc: 0.9938 - val_loss: 0.0176 - val_acc: 0.9949\n",
      "Epoch 11/20\n",
      "50s - loss: 0.0208 - acc: 0.9941 - val_loss: 0.0197 - val_acc: 0.9945\n",
      "Epoch 12/20\n",
      "50s - loss: 0.0178 - acc: 0.9945 - val_loss: 0.0172 - val_acc: 0.9949\n",
      "Epoch 13/20\n",
      "50s - loss: 0.0185 - acc: 0.9950 - val_loss: 0.0233 - val_acc: 0.9946\n",
      "Epoch 14/20\n",
      "50s - loss: 0.0189 - acc: 0.9947 - val_loss: 0.0182 - val_acc: 0.9942\n",
      "Epoch 15/20\n",
      "50s - loss: 0.0145 - acc: 0.9959 - val_loss: 0.0305 - val_acc: 0.9928\n",
      "Epoch 16/20\n",
      "50s - loss: 0.0168 - acc: 0.9953 - val_loss: 0.0185 - val_acc: 0.9945\n",
      "Epoch 17/20\n",
      "50s - loss: 0.0139 - acc: 0.9960 - val_loss: 0.0227 - val_acc: 0.9942\n",
      "Epoch 18/20\n",
      "50s - loss: 0.0145 - acc: 0.9961 - val_loss: 0.0176 - val_acc: 0.9951\n",
      "Epoch 19/20\n",
      "50s - loss: 0.0124 - acc: 0.9963 - val_loss: 0.0284 - val_acc: 0.9936\n",
      "Epoch 20/20\n",
      "50s - loss: 0.0115 - acc: 0.9969 - val_loss: 0.0210 - val_acc: 0.9946\n",
      "CPU times: user 17min 4s, sys: 1min 56s, total: 19min\n",
      "Wall time: 16min 53s\n"
     ]
    }
   ],
   "source": [
    "%%time\n",
    "\n",
    "seed(1)\n",
    "set_random_seed(1)\n",
    "\n",
    "batch_size = 64\n",
    "model2 = StandardCNN(input_shape = (28, 28, 1))\n",
    "hist2 = model2.fit_generator(\n",
    "                        generator=train_generator(x_train, y_train, batch_size, 0.1),\n",
    "                        epochs=20,\n",
    "                        verbose=2,\n",
    "                        steps_per_epoch=int(y_train.shape[0] / batch_size),\n",
    "                        validation_data=[x_test, y_test])#,callbacks=[log, checkpoint, lr_decay])"
   ]
  },
  {
   "cell_type": "markdown",
   "metadata": {},
   "source": [
    "## Result\n",
    "The final validation accuracy is 0.995 (the validation error is 0.540%).\n",
    "The data augmentation approach improved the validation accuracy by 0.0029.\n",
    "As the validation data contains 10K images, this means that additional 29 (=10000x0.0029) images are correctly classified. \n",
    "\n",
    "According to [Recent Hinton's paper](https://arxiv.org/pdf/1710.09829.pdf), this model could return the validation error of 0.39%. My final model is not as good. I probablly need to tweek the backpropagation parameters and dropout rate. \n",
    "\n",
    "\n",
    "#### Some comments on algorithm's termination criteria\n",
    "In this excercise, I did not formaly split the data into train, validation and test sets.\n",
    "Instead, I treated testing data also as a validation data.\n",
    "This is OK if testing data is not used for deciding the model parameter updates.\n",
    "However, it is NOT OK if the testing data is used for this purpose, e.g., deciding when to terminate the algorithm.\n",
    "\n",
    "I selected the model updated at the final epoch as the final model; my algorithm termination criteria is simply \"stop at 50th epoch\".\n",
    "This simple approach may cause issues, because the model may be overfitted or underfitted at the pre-specified epoch size. It is wiser to decide the final model by introducing validation set and considering the early stopping when the validation loss is minimized. \n"
   ]
  },
  {
   "cell_type": "code",
   "execution_count": 23,
   "metadata": {},
   "outputs": [
    {
     "data": {
      "image/png": "[encoded data removed]",
      "text/plain": [
       "<matplotlib.figure.Figure at 0x7efb4f497750>"
      ]
     },
     "metadata": {},
     "output_type": "display_data"
    },
    {
     "name": "stdout",
     "output_type": "stream",
     "text": [
      "validation error:\n",
      "    model1: 0.830%, model2: 0.540%\n",
      "validation accuracy improvement: 0.0029\n"
     ]
    }
   ],
   "source": [
    "m1_err = hist1.history[\"val_acc\"][-1]\n",
    "m2_err = hist2.history[\"val_acc\"][-1]\n",
    "for label in [\"val_acc\",\"acc\"]:\n",
    "    plt.plot(hist1.history[label],\"--\",label=\"model1 \" + label)\n",
    "    plt.plot(hist2.history[label],label=\"model2 \" + label)\n",
    "plt.xlabel(\"epoch\")\n",
    "plt.ylabel(\"accuracy\")\n",
    "plt.title(\"validation accuracy, model1: {:6.5f}, model2: {:6.5f}\".format(\n",
    "    m1_err,m2_err))\n",
    "plt.legend()\n",
    "plt.ylim(0.95,1.005)\n",
    "plt.show()\n",
    "print(\"validation error:\\n    model1: {:5.3f}%, model2: {:5.3f}%\".format(\n",
    "    (1-m1_err)*100,(1-m2_err)*100))\n",
    "print(\"validation accuracy improvement: {}\".format(m2_err-m1_err))"
   ]
  },
  {
   "cell_type": "markdown",
   "metadata": {},
   "source": [
    "### Save model"
   ]
  },
  {
   "cell_type": "code",
   "execution_count": 10,
   "metadata": {
    "collapsed": true
   },
   "outputs": [],
   "source": [
    "from keras.models import model_from_json\n",
    "def save_model(model,name):\n",
    "    '''\n",
    "    save model architecture and model weights\n",
    "    '''\n",
    "    json_string = model.to_json()\n",
    "    open(name+'_architecture.json', 'w').write(json_string)\n",
    "    model.save_weights(name+'_weights.h5')\n",
    "\n",
    "save_model(model2,name=\"standard\")    "
   ]
  },
  {
   "cell_type": "markdown",
   "metadata": {},
   "source": [
    "Due to the large number of parameters (35M), the model weight object is hudge!"
   ]
  },
  {
   "cell_type": "code",
   "execution_count": 11,
   "metadata": {},
   "outputs": [
    {
     "name": "stdout",
     "output_type": "stream",
     "text": [
      "standard_weights.h5            135.24 MB\n",
      "standard_architecture.json     0.00 MB\n"
     ]
    }
   ],
   "source": [
    "import os \n",
    "file_paths = [\"standard_weights.h5\",\"standard_architecture.json\"]\n",
    "for file_path in file_paths:\n",
    "    w = os.stat(file_path).st_size\n",
    "    print(\"{:30} {:4.2f} MB\".format(file_path,w/(1024.0**2)))"
   ]
  }
 ],
 "metadata": {
  "kernelspec": {
   "display_name": "Python 2",
   "language": "python",
   "name": "python2"
  },
  "language_info": {
   "codemirror_mode": {
    "name": "ipython",
    "version": 2
   },
   "file_extension": ".py",
   "mimetype": "text/x-python",
   "name": "python",
   "nbconvert_exporter": "python",
   "pygments_lexer": "ipython2",
   "version": "2.7.13"
  }
 },
 "nbformat": 4,
 "nbformat_minor": 2
}
