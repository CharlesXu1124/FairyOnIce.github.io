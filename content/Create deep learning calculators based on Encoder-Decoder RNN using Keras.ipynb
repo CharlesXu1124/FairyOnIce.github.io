{
 "cells": [
  {
   "cell_type": "markdown",
   "metadata": {},
   "source": [
    "Google search is great. You can ask any question you have and give you links to the potential solutions. It can sometimes give you the solution itself when the question is simple enough. One of such example is that google search can act as a calcualator. You can ask \"1 + 1\" or \"1     + 1\" to get the value 2. It somehow knows that the spaces are nuicense and return correct value. You can even ask the calculation with some strings. See pic below:"
   ]
  },
  {
   "cell_type": "code",
   "execution_count": 3,
   "metadata": {},
   "outputs": [
    {
     "name": "stderr",
     "output_type": "stream",
     "text": [
      "Using TensorFlow backend.\n"
     ]
    },
    {
     "data": {
      "image/png": "[encoded data removed]",
      "text/plain": [
       "<PIL.Image.Image image mode=RGB size=646x250 at 0x7F4A667CAD10>"
      ]
     },
     "execution_count": 3,
     "metadata": {},
     "output_type": "execute_result"
    }
   ],
   "source": [
    "from keras.preprocessing.image import ImageDataGenerator,  img_to_array, load_img\n",
    "load_img(\"./pic/Capture2.PNG\")"
   ]
  },
  {
   "cell_type": "markdown",
   "metadata": {},
   "source": [
    "Somehow, google understand that what I am asking is \"32+123\" and do the calculations. Can we do the same using deep learning model that takes a string as input?\n",
    "\n",
    "I was fascinated by one of the Keras's examples in Github called [addition rnn](https://github.com/keras-team/keras/blob/master/examples/addition_rnn.py). This script shows the implementation of sequence to sequence learning for performing addition. The script considers the summation of two 3-digit numbers, for example, 123+420=543. The input of the model is a string \"123+429\" and output is \"543\". \n",
    "\n",
    "In this blog post, we try to understand how the RNNs learn calculations.\n",
    "We will first consider very VERY simple example of summation of two 1-digits, then we will work on more complex senario. \n",
    "\n"
   ]
  },
  {
   "cell_type": "code",
   "execution_count": 2,
   "metadata": {},
   "outputs": [
    {
     "name": "stdout",
     "output_type": "stream",
     "text": [
      "python 2.7.13 |Anaconda 4.3.1 (64-bit)| (default, Dec 20 2016, 23:09:15) \n",
      "[GCC 4.4.7 20120313 (Red Hat 4.4.7-1)]\n",
      "keras version 2.0.6\n",
      "tensorflow version 1.2.1\n"
     ]
    }
   ],
   "source": [
    "import matplotlib.pyplot as plt\n",
    "import tensorflow as tf\n",
    "from keras.backend.tensorflow_backend import set_session\n",
    "import keras\n",
    "import sys\n",
    "import warnings\n",
    "warnings.filterwarnings(\"ignore\")\n",
    "print(\"python {}\".format(sys.version))\n",
    "print(\"keras version {}\".format(keras.__version__))\n",
    "print(\"tensorflow version {}\".format(tf.__version__))\n",
    "config = tf.ConfigProto()\n",
    "config.gpu_options.per_process_gpu_memory_fraction = 0.95\n",
    "config.gpu_options.visible_device_list = \"0\"\n",
    "#### 2 GPU1\n",
    "#### 0 GPU3\n",
    "#### 4 GPU4\n",
    "#### 3 GPU2\n",
    "set_session(tf.Session(config=config))\n",
    "\n",
    "def set_seed(sd=123):\n",
    "    from numpy.random import seed\n",
    "    from tensorflow import set_random_seed\n",
    "    import random as rn\n",
    "    ## numpy random seed\n",
    "    seed(sd)\n",
    "    ## core python's random number \n",
    "    rn.seed(sd)\n",
    "    ## tensor flow's random number\n",
    "    set_random_seed(sd)"
   ]
  },
  {
   "cell_type": "markdown",
   "metadata": {},
   "source": [
    "\n",
    "\n",
    "## Create one-hot encoders that takes string and return one-hot encoded matrix of size as many as the number of characters in the string\n",
    "\n",
    "This class is bollowed from [addition rnn](https://github.com/keras-team/keras/blob/master/examples/addition_rnn.py) with no change."
   ]
  },
  {
   "cell_type": "code",
   "execution_count": 3,
   "metadata": {
    "collapsed": true
   },
   "outputs": [],
   "source": [
    "class CharacterTable(object): \n",
    "    \"\"\"Given a set of characters: \n",
    "     + Encode them to a one hot integer representation \n",
    "     + Decode the one hot integer representation to their character output \n",
    "     + Decode a vector of probabilities to their character output \n",
    "    \"\"\" \n",
    "    def __init__(self, chars): \n",
    "        \"\"\"Initialize character table. \n",
    "  \n",
    "         # Arguments \n",
    "             chars: Characters that can appear in the input. \n",
    "        \"\"\" \n",
    "        self.chars = sorted(set(chars)) \n",
    "        self.char_indices = dict((c, i) for i, c in enumerate(self.chars)) \n",
    "        self.indices_char = dict((i, c) for i, c in enumerate(self.chars)) \n",
    " \n",
    " \n",
    "    def encode(self, C, num_rows): \n",
    "        \"\"\"One hot encode given string C. \n",
    "  \n",
    "         # Arguments \n",
    "             num_rows: Number of rows in the returned one hot encoding. This is \n",
    "                 used to keep the # of rows for each data the same. \n",
    "         \"\"\" \n",
    "        x = np.zeros((num_rows, len(self.chars))) \n",
    "        for i, c in enumerate(C): \n",
    "             x[i, self.char_indices[c]] = 1 \n",
    "        return x \n",
    " \n",
    " \n",
    "    def decode(self, x, calc_argmax=True): \n",
    "        if calc_argmax: \n",
    "            x = x.argmax(axis=-1) \n",
    "        return ''.join(self.indices_char[x] for x in x) \n",
    "class colors: \n",
    "    ok = '\\033[92m' \n",
    "    fail = '\\033[91m' \n",
    "    close = '\\033[0m' \n"
   ]
  },
  {
   "cell_type": "markdown",
   "metadata": {},
   "source": [
    "# RNN model for summation of two single digits."
   ]
  },
  {
   "cell_type": "markdown",
   "metadata": {},
   "source": [
    "## Generate 10,000 samples.\n",
    "As we are only considering the summation of two single digits, there are only 10 x 10 = 100 possible samples.\n",
    "Sampling 10,000 samples means we are sampling identical samples 100 times on average."
   ]
  },
  {
   "cell_type": "code",
   "execution_count": 4,
   "metadata": {},
   "outputs": [
    {
     "name": "stdout",
     "output_type": "stream",
     "text": [
      "Generating data...\n",
      "0 samples are generated...\n",
      "1000 samples are generated...\n",
      "2000 samples are generated...\n",
      "3000 samples are generated...\n",
      "4000 samples are generated...\n",
      "5000 samples are generated...\n",
      "6000 samples are generated...\n",
      "7000 samples are generated...\n",
      "8000 samples are generated...\n",
      "9000 samples are generated...\n",
      "Total addition questions:10000\n"
     ]
    }
   ],
   "source": [
    "import numpy as np\n",
    "\n",
    "set_seed(123)\n",
    "# Parameters for the model and dataset. \n",
    "TRAINING_SIZE = 10000\n",
    "DIGITS = 1\n",
    "\n",
    "\n",
    "# Maximum length of input is 'int + int' (e.g., '345+678'). Maximum length of \n",
    "# int is DIGITS. \n",
    "MAXLEN = DIGITS + 1 + DIGITS \n",
    "\n",
    "# All the numbers, plus sign and space for padding. \n",
    "chars = '0123456789+ ' \n",
    "ctable = CharacterTable(chars) \n",
    "f = lambda: int(''.join(np.random.choice(list('0123456789')) \n",
    "            for i in range(np.random.randint(1, DIGITS + 1)))) \n",
    "questions = [] \n",
    "expected = [] \n",
    "print('Generating data...') \n",
    "while len(questions) < TRAINING_SIZE: \n",
    "    if len(questions) % 1000 == 0:\n",
    "           print(\"{} samples are generated...\".format(len(questions)))\n",
    "    a, b = f(), f()  \n",
    "    q = '{}+{}'.format(a, b) \n",
    "    query = q + ' ' * (MAXLEN - len(q)) \n",
    "    ans = str(a + b) \n",
    "    # Answers can be of maximum size DIGITS + 1. \n",
    "    ans += ' ' * (DIGITS + 1 - len(ans))  \n",
    "    questions.append(query) \n",
    "    expected.append(ans) \n",
    "print('Total addition questions:{}'.format( len(questions)))\n"
   ]
  },
  {
   "cell_type": "markdown",
   "metadata": {},
   "source": [
    "## Example data strings look like:"
   ]
  },
  {
   "cell_type": "code",
   "execution_count": 5,
   "metadata": {},
   "outputs": [
    {
     "name": "stdout",
     "output_type": "stream",
     "text": [
      "2+2 = 4   \n",
      "6+1 = 7   \n",
      "3+9 = 12  \n",
      "6+1 = 7   \n",
      "0+1 = 1   \n",
      "9+0 = 9   \n",
      "0+9 = 9   \n",
      "3+4 = 7   \n",
      "0+0 = 0   \n",
      "4+1 = 5   \n"
     ]
    }
   ],
   "source": [
    "for q,a in zip(questions,expected)[:10]:\n",
    "    print(\"{:3} = {:4}\".format(q,a))"
   ]
  },
  {
   "cell_type": "markdown",
   "metadata": {},
   "source": [
    "# Using the class previously created, we one-hot encode each character.\n",
    "\n",
    "## Input\n",
    "There are 3 characters per sequence and each character could potential take 12 values (\"0123456789+ \").\n",
    "The input of the model is 3 one-hot encoded vectors each of which represents a single character. \n",
    "Hence one sample sequence is represented as 3 by 12. The example of the one-hot encoded vectors ($\\boldsymbol{x}_{i,t} \\in R^{12}$ The time index take values: $t=1,2,3$.) are:\n",
    "\n",
    "- $\\boldsymbol{x}_{i,t_1}=[0,0,0,0,0,0,1,0,0,0,0,0]$ indicates \"6\" as the 6th position (position counting starting from 0) is nonzero.  \n",
    "\n",
    "- $\\boldsymbol{x}_{i,t_2}=[0,0,0,0,0,0,0,0,0,0,1,0]$ indicates \"+\".\n",
    "\n",
    "- $\\boldsymbol{x}_{i,t_3}=[1,0,0,0,0,0,0,0,0,0,0,0]$ indicates \"0\".\n",
    "\n",
    "- $[\\boldsymbol{x}_{i,t_1},\\boldsymbol{x}_{i,t_2},\\boldsymbol{x}_{i,t_3}]$ together represents a single sentence \"6+0\"\n",
    "\n",
    "- $\\boldsymbol{x}_{i,t_4}=[0,0,0,0,0,0,0,0,0,0,0,1]$ indicates empty space i.e., \" \" \n",
    "\n",
    "\n",
    "\n",
    "\n",
    "## Targets\n",
    "The targets are 2 one-hot encoded vectors, and each one-hot encoded vector must have length 12. \n",
    "If the solution is a single digit (for example, the solution to \"0+6\" is \"6\" and \"6\" is a single digit), then solution has to be \"6 \", which can be represetned as  $[\\boldsymbol{x}_{i,t_1}, \\boldsymbol{x}_{i,t_4}]$ using the notation above. In practice we use $y$ to represent the target vectors.\n",
    "\n",
    "$\n",
    "\\boldsymbol{y}_{i,k} \\in [0,1]^{12}, k=1,2 \n",
    "$"
   ]
  },
  {
   "cell_type": "code",
   "execution_count": 6,
   "metadata": {},
   "outputs": [
    {
     "name": "stdout",
     "output_type": "stream",
     "text": [
      "Vectorization...\n"
     ]
    }
   ],
   "source": [
    "def one_hot_encoder(expected,questions,x_dim,y_dim,chars,ctable):\n",
    "    print('Vectorization...') \n",
    "    x = np.zeros((len(questions), x_dim, len(chars)), dtype=np.bool) \n",
    "    y = np.zeros((len(questions), y_dim, len(chars)), dtype=np.bool) \n",
    "    for i, sentence in enumerate(questions): \n",
    "         x[i] = ctable.encode(sentence, x_dim) \n",
    "    for i, sentence in enumerate(expected): \n",
    "         y[i] = ctable.encode(sentence, y_dim)\n",
    "    return(x,y)\n",
    "x, y = one_hot_encoder(expected,questions,MAXLEN,DIGITS + 1,chars,ctable)"
   ]
  },
  {
   "cell_type": "markdown",
   "metadata": {},
   "source": [
    "## Split between training and testing\n"
   ]
  },
  {
   "cell_type": "code",
   "execution_count": 7,
   "metadata": {},
   "outputs": [
    {
     "name": "stdout",
     "output_type": "stream",
     "text": [
      "Training Data:\n",
      "(9000, 3, 12)\n",
      "(9000, 2, 12)\n"
     ]
    }
   ],
   "source": [
    "def split_train_test(x,y):\n",
    "    # Explicitly set apart 10% for validation data that we never train over. \n",
    "    split_at = len(x) - len(x) // 10 \n",
    "    (x_train, x_val) = x[:split_at], x[split_at:] \n",
    "    (y_train, y_val) = y[:split_at], y[split_at:] \n",
    "    return (x_train, x_val),(y_train, y_val)\n",
    "(x_train, x_val),(y_train, y_val) = split_train_test(x,y)\n",
    "print('Training Data:') \n",
    "print(x_train.shape) \n",
    "print(y_train.shape) "
   ]
  },
  {
   "cell_type": "markdown",
   "metadata": {},
   "source": [
    "\n",
    "# Model Definition\n",
    "\n",
    "We consider encoder-decoder RNN models. \n",
    "The RNN is previously discussed [here](https://fairyonice.github.io/Understand%20Keras's%20RNN%20behind%20the%20scenes%20with%20a%20sin%20wave%20example.html).\n",
    "The encoder-decoder model is often used in the field of machine translation, and it has been explained by many blogs. \n",
    "So I will not give you a nice smooth introduction, but interested readers should read (or at least see the graph) [Peeking into the neural network architecture used for Google's Neural Machine Translation](https://smerity.com/articles/2016/google_nmt_arch.html) or [How Does Attention Work in Encoder-Decoder Recurrent Neural Networks](https://machinelearningmastery.com/how-does-attention-work-in-encoder-decoder-recurrent-neural-networks/).\n",
    "\n",
    "As the model's name suggests, from a high-level, the model is comprised of two sub-models: an encoder and a decoder.\n",
    "- Encoder: The encoder is responsible for stepping through the input time steps and encoding the entire sequence into a fixed length vector called a context vector.\n",
    "- Decoder: The decoder is responsible for stepping through the output time steps while reading from the context vector.\n",
    "\n",
    "The original [addition rnn](https://github.com/keras-team/keras/blob/master/examples/addition_rnn.py) considers the solutions to the summation of two 3-or-less-digit numbers.\n",
    "The model used was an encoder-decoder RNN with 208,529 parameters.\n",
    "As there are 1 million potential combination sample (1,000 x 1,000), this number of parameters may be necessary considering the complexity of the problem. \n",
    "\n",
    "\n",
    "However, in my example, I only consider the summatoin of two single digit numbers, meaning that there are only 10 x 10 = 100 unique samples. \n",
    "The function with 100 if-else statements can do the perfect jobs in predicting the outcome.\n",
    "So I should be able to create a model with less than 100 parameters! \n",
    "Simpler model is preferable also because it is easier to understand.\n",
    "\n",
    "So for now, we consider an encoder-decoder model with 77 parameters. The model defenition follows:\n",
    "\n",
    "\n",
    "```\n",
    "HIDDEN_ENCODER=1\n",
    "HIDDEN_DECODER=3\n",
    "```"
   ]
  },
  {
   "cell_type": "code",
   "execution_count": 9,
   "metadata": {},
   "outputs": [
    {
     "data": {
      "image/png": "[encoded data removed]",
      "text/plain": [
       "<PIL.Image.Image image mode=RGB size=743x427 at 0x7F4A667685D0>"
      ]
     },
     "execution_count": 9,
     "metadata": {},
     "output_type": "execute_result"
    }
   ],
   "source": [
    "load_img(\"./pic/encoder_decoder.png\")"
   ]
  },
  {
   "cell_type": "markdown",
   "metadata": {},
   "source": [
    "\n",
    "\n",
    "## Encoder layer:\n",
    "\n",
    "### In total there are 48 parameters ( = 12x1 + 1x1 + 1 = 12 + 1 + 1 = 14)\n",
    "\n",
    "$\n",
    "\\boldsymbol{w}_{e} \\in R^{\\textrm{HIDDEN_ENCODER x 12}},\\boldsymbol{w}_{h_{e}} \\in R^{\\textrm{HIDDEN_ENCODER x HIDDEN_ENCODER}}, \\boldsymbol{b}_e \\in R^{\\textrm{HIDDEN_ENCODER}}\n",
    "$\n",
    "\n",
    "### layer definition\n",
    "\n",
    "$\n",
    "\\boldsymbol{e}_{i,0}=0\\in R^{\\textrm{HIDDEN_ENCODER}}\\\\\n",
    "\\boldsymbol{e}_{i,t} = \\textrm{tanh}(\\boldsymbol{x}_{i,t}^T \\boldsymbol{w}_{e} + \\boldsymbol{e}_{i,t-1}^T \\boldsymbol{w}_{e} +\\boldsymbol{b}_e) \\\\ \n",
    "$\n",
    "\n",
    "## Decoder layer:\n",
    "### In total there are 21 parameters ( = 3x1 + 3x3 + 3 = 3 + 9 + 3 = 15)\n",
    "$\n",
    "\\boldsymbol{w}_{d} \\in R^{\\textrm{HIDDEN_DECODER x HIDDEN_ENCODER}},\\boldsymbol{w}_{h_{d}} \\in R^{\\textrm{HIDDEN_DECODER x HIDDEN_DECODER}}, \\boldsymbol{b}_d \\in R^{\\textrm{HIDDEN_DECODER}}\n",
    "$\n",
    "\n",
    "### layer definition\n",
    "\n",
    "$k=1,2$\n",
    "\n",
    "$\n",
    "\\boldsymbol{d}_{i,0}=0\\in R^{\\textrm{HIDDEN_DECODER}}\\\\\n",
    "\\boldsymbol{d}_{i,k} = \\textrm{tanh}(\\boldsymbol{e}_{i,3}^T \\boldsymbol{w}_{d} + \\boldsymbol{d}_{i,k-1}^T\n",
    "\\boldsymbol{w}_{d} +\\boldsymbol{b}_d) \\\\ \n",
    "$\n",
    "\n",
    "## Time-distributed Dense layer:\n",
    "\n",
    "### In total there are 48 parameters ( = 12x3 + 12 = 48)\n",
    "$\n",
    "\\boldsymbol{w}_{dense}\\in R^{\\textrm{12 x HIDDEN_DECODER}}\\boldsymbol{b}_{dense}\\in R^{12}\\\\\n",
    "$\n",
    "\n",
    "### layer defenition\n",
    "$\n",
    "\\boldsymbol{y}_{i,k} = \\textrm{softmax}(\\boldsymbol{d}_{i,k}^T \\boldsymbol{w}_{dense} + \\boldsymbol{b}_{dense})\n",
    "$"
   ]
  },
  {
   "cell_type": "code",
   "execution_count": 8,
   "metadata": {},
   "outputs": [
    {
     "name": "stdout",
     "output_type": "stream",
     "text": [
      "Build model...\n",
      "_________________________________________________________________\n",
      "Layer (type)                 Output Shape              Param #   \n",
      "=================================================================\n",
      "Input (InputLayer)           (None, 3, 12)             0         \n",
      "_________________________________________________________________\n",
      "encoder1 (SimpleRNN)         (None, 1)                 14        \n",
      "_________________________________________________________________\n",
      "repeat_vector (RepeatVector) (None, 2, 1)              0         \n",
      "_________________________________________________________________\n",
      "decoder1 (SimpleRNN)         (None, 2, 3)              15        \n",
      "_________________________________________________________________\n",
      "time_distributed_dense (Time (None, 2, 12)             48        \n",
      "=================================================================\n",
      "Total params: 77\n",
      "Trainable params: 77\n",
      "Non-trainable params: 0\n",
      "_________________________________________________________________\n"
     ]
    }
   ],
   "source": [
    "import keras.layers as layers\n",
    "from keras.models import Model\n",
    "from keras.layers.core import Dense\n",
    "\n",
    "\n",
    "print('Build model...')\n",
    "\n",
    " \n",
    "\n",
    "def define_model(MAXLEN_x,MAXLEN_y,chars,\n",
    "                 HIDDEN_ENCODER,\n",
    "                 HIDDEN_DECODER,RNN):\n",
    "    \n",
    "    def scalarToList(a):\n",
    "        if not isinstance(a,list):\n",
    "            a = [a]\n",
    "        lena = len(a)\n",
    "        return(a,lena)\n",
    "    def return_seq(nlayer,lenEncoder):\n",
    "        '''\n",
    "        return sequence must be False if this layer is the final one\n",
    "        '''\n",
    "        return(False if nlayer == lenENCODER else True)\n",
    "\n",
    "    \n",
    "    HIDDEN_ENCODER, lenENCODER = scalarToList(HIDDEN_ENCODER)\n",
    "    HIDDEN_DECODER, lenDECODER = scalarToList(HIDDEN_DECODER)\n",
    "\n",
    "    \n",
    "    inp = layers.Input(batch_shape=(None, MAXLEN_x, len(chars)),name=\"Input\")  \n",
    "    \n",
    "    # \"Encode\" the input sequence using an RNN, producing an output of HIDDEN_SIZE. \n",
    "    \n",
    "    encoder = RNN(HIDDEN_ENCODER[0], \n",
    "                  return_sequences=return_seq(1,lenENCODER),\n",
    "                  name=\"encoder1\")(inp)\n",
    "    \n",
    "    nlayer = 1\n",
    "    if lenENCODER > 1:\n",
    "            for HE in HIDDEN_ENCODER[1:]:\n",
    "                nlayer +=1\n",
    "                encoder = RNN(HE, \n",
    "                          return_sequences=return_seq(nlayer,lenENCODER),\n",
    "                          name=\"encoder\"+str(nlayer))(encoder)\n",
    "    \n",
    "    rep_encoder = layers.RepeatVector(MAXLEN_y,name=\"repeat_vector\")(encoder)\n",
    "    # By setting return_sequences to True, return not only the last output but \n",
    "    # all the outputs so far in the form of (num_samples, timesteps, \n",
    "    # output_dim). This is necessary as TimeDistributed in the below expects \n",
    "    # the first dimension to be the timesteps.\n",
    "    decoder = RNN(HIDDEN_DECODER[0],\n",
    "                  return_sequences=True,\n",
    "                  name=\"decoder1\")(rep_encoder)\n",
    "    \n",
    "    if lenDECODER > 1:\n",
    "            for HE in HIDDEN_DECODER[1:]:\n",
    "                decoder = RNN(HE, \n",
    "                          return_sequences=True,\n",
    "                          name=name+str(nlayer))(decoder)\n",
    "    \n",
    "    # Apply a dense layer to the every temporal slice of an input. For each of step \n",
    "    # of the output sequence, decide which character should be chosen. \n",
    "    #out = layers.Dense(len(chars))(decoder)\n",
    "    out = layers.TimeDistributed(layers.Dense(len(chars),\n",
    "                                              activation=\"softmax\"),\n",
    "                                 name=\"time_distributed_dense\")(decoder)\n",
    "    \n",
    "    model = Model(inputs=[inp],outputs=[out])\n",
    "    encoder = Model(inputs=[inp],outputs=[rep_encoder])\n",
    "    model.summary() \n",
    "    return(model,encoder)\n",
    "\n",
    "HIDDEN_ENCODER = 1#128\n",
    "HIDDEN_DECODER = 3#128\n",
    "model, encoder = define_model(MAXLEN,DIGITS + 1,chars,\n",
    "                              HIDDEN_ENCODER,\n",
    "                              HIDDEN_DECODER,\n",
    "                              RNN=layers.SimpleRNN)    \n",
    "\n",
    "model.compile(loss='categorical_crossentropy', \n",
    "               optimizer='adam', \n",
    "               metrics=['accuracy']) \n",
    "\n"
   ]
  },
  {
   "cell_type": "markdown",
   "metadata": {},
   "source": [
    "Define printing functions for model training "
   ]
  },
  {
   "cell_type": "code",
   "execution_count": 9,
   "metadata": {
    "collapsed": true
   },
   "outputs": [],
   "source": [
    "def print_predicted(x,y,model,ctable,colors):\n",
    "    for i in range(x.shape[0]): \n",
    "        rowx, rowy = x[[i]], y[[i]]\n",
    "        preds = model.predict(rowx, verbose=0) \n",
    "        preds = preds.argmax(axis=2)\n",
    "        q = ctable.decode(rowx[0]) \n",
    "        correct = ctable.decode(rowy[0]) \n",
    "        guess = ctable.decode(preds[0], calc_argmax=False) \n",
    "        print('  Q:{}'.format(q)), \n",
    "        print('T:{}'.format( correct)), \n",
    "        print('Model:{}'.format(guess)),\n",
    "        if correct == guess: \n",
    "             print(colors.ok + '☑' + colors.close) \n",
    "        else: \n",
    "             print(colors.fail + '☒' + colors.close) "
   ]
  },
  {
   "cell_type": "markdown",
   "metadata": {},
   "source": [
    "## Model Training "
   ]
  },
  {
   "cell_type": "code",
   "execution_count": 10,
   "metadata": {
    "collapsed": true
   },
   "outputs": [],
   "source": [
    "def train(model,ctable,\n",
    "          x_train,y_train,x_val,y_val,\n",
    "          nb_epochs,print_every,BATCH_SIZE):\n",
    "    history = {'acc':[],'loss':[],'val_acc':[],'val_loss':[]}\n",
    "    for iteration in range(1, nb_epochs): \n",
    "        hist = model.fit(x_train, y_train, \n",
    "                         batch_size=BATCH_SIZE, \n",
    "                         epochs=1,\n",
    "                         verbose=False, \n",
    "                         validation_data=(x_val, y_val))\n",
    "        ## printing \n",
    "        if iteration % print_every ==0:\n",
    "            print('-' * 50)\n",
    "            print('Iteration {}'.format(iteration))\n",
    "\n",
    "        for key in hist.history.keys():\n",
    "            history[key].append(hist.history[key][0])\n",
    "            if iteration % print_every ==0:\n",
    "                print(\"{}:{:4.3f}\".format(key,hist.history[key][0])),\n",
    "\n",
    "        if iteration % print_every ==0:    \n",
    "            print(\"\")\n",
    "\n",
    "        # Select 10 samples from the validation set at random so we can visualize \n",
    "        # errors. \n",
    "        if iteration % print_every ==0: \n",
    "            index = np.random.randint(0, len(x_val),10)\n",
    "            print_predicted(x_val[index],y_val[index],\n",
    "                            model,ctable,colors)\n",
    "    return(history)"
   ]
  },
  {
   "cell_type": "code",
   "execution_count": 11,
   "metadata": {
    "scrolled": false
   },
   "outputs": [
    {
     "name": "stdout",
     "output_type": "stream",
     "text": [
      "((9000, 3, 12), (9000, 2, 12), (1000, 3, 12), (1000, 2, 12))\n",
      "--------------------------------------------------\n",
      "Iteration 400\n",
      "acc:0.909 loss:0.435 val_acc:0.908 val_loss:0.437 \n",
      "  Q:6+0 T:6  Model:6  \u001b[92m☑\u001b[0m\n",
      "  Q:6+1 T:7  Model:7  \u001b[92m☑\u001b[0m\n",
      "  Q:3+9 T:12 Model:12 \u001b[92m☑\u001b[0m\n",
      "  Q:2+8 T:10 Model:10 \u001b[92m☑\u001b[0m\n",
      "  Q:2+9 T:11 Model:11 \u001b[92m☑\u001b[0m\n",
      "  Q:5+9 T:14 Model:13 \u001b[91m☒\u001b[0m\n",
      "  Q:8+6 T:14 Model:13 \u001b[91m☒\u001b[0m\n",
      "  Q:6+9 T:15 Model:12 \u001b[91m☒\u001b[0m\n",
      "  Q:0+0 T:0  Model:5  \u001b[91m☒\u001b[0m\n",
      "  Q:0+6 T:6  Model:6  \u001b[92m☑\u001b[0m\n",
      "--------------------------------------------------\n",
      "Iteration 800\n",
      "acc:0.958 loss:0.233 val_acc:0.950 val_loss:0.234 \n",
      "  Q:4+2 T:6  Model:6  \u001b[92m☑\u001b[0m\n",
      "  Q:9+2 T:11 Model:11 \u001b[92m☑\u001b[0m\n",
      "  Q:8+4 T:12 Model:12 \u001b[92m☑\u001b[0m\n",
      "  Q:3+9 T:12 Model:12 \u001b[92m☑\u001b[0m\n",
      "  Q:2+7 T:9  Model:9  \u001b[92m☑\u001b[0m\n",
      "  Q:0+3 T:3  Model:4  \u001b[91m☒\u001b[0m\n",
      "  Q:3+3 T:6  Model:6  \u001b[92m☑\u001b[0m\n",
      "  Q:6+0 T:6  Model:6  \u001b[92m☑\u001b[0m\n",
      "  Q:6+3 T:9  Model:9  \u001b[92m☑\u001b[0m\n",
      "  Q:6+9 T:15 Model:15 \u001b[92m☑\u001b[0m\n",
      "--------------------------------------------------\n",
      "Iteration 1200\n",
      "acc:0.985 loss:0.142 val_acc:0.985 val_loss:0.142 \n",
      "  Q:3+2 T:5  Model:5  \u001b[92m☑\u001b[0m\n",
      "  Q:1+7 T:8  Model:8  \u001b[92m☑\u001b[0m\n",
      "  Q:7+4 T:11 Model:11 \u001b[92m☑\u001b[0m\n",
      "  Q:6+7 T:13 Model:13 \u001b[92m☑\u001b[0m\n",
      "  Q:3+1 T:4  Model:4  \u001b[92m☑\u001b[0m\n",
      "  Q:5+8 T:13 Model:13 \u001b[92m☑\u001b[0m\n",
      "  Q:9+1 T:10 Model:10 \u001b[92m☑\u001b[0m\n",
      "  Q:6+5 T:11 Model:11 \u001b[92m☑\u001b[0m\n",
      "  Q:5+7 T:12 Model:12 \u001b[92m☑\u001b[0m\n",
      "  Q:1+2 T:3  Model:3  \u001b[92m☑\u001b[0m\n",
      "--------------------------------------------------\n",
      "Iteration 1600\n",
      "acc:0.993 loss:0.103 val_acc:0.985 val_loss:0.105 \n",
      "  Q:3+4 T:7  Model:7  \u001b[92m☑\u001b[0m\n",
      "  Q:5+6 T:11 Model:11 \u001b[92m☑\u001b[0m\n",
      "  Q:4+7 T:11 Model:11 \u001b[92m☑\u001b[0m\n",
      "  Q:0+4 T:4  Model:4  \u001b[92m☑\u001b[0m\n",
      "  Q:1+4 T:5  Model:5  \u001b[92m☑\u001b[0m\n",
      "  Q:3+9 T:12 Model:12 \u001b[92m☑\u001b[0m\n",
      "  Q:5+6 T:11 Model:11 \u001b[92m☑\u001b[0m\n",
      "  Q:3+5 T:8  Model:8  \u001b[92m☑\u001b[0m\n",
      "  Q:8+8 T:16 Model:16 \u001b[92m☑\u001b[0m\n",
      "  Q:2+0 T:2  Model:3  \u001b[91m☒\u001b[0m\n",
      "--------------------------------------------------\n",
      "Iteration 2000\n",
      "acc:1.000 loss:0.082 val_acc:1.000 val_loss:0.083 \n",
      "  Q:2+7 T:9  Model:9  \u001b[92m☑\u001b[0m\n",
      "  Q:3+3 T:6  Model:6  \u001b[92m☑\u001b[0m\n",
      "  Q:2+5 T:7  Model:7  \u001b[92m☑\u001b[0m\n",
      "  Q:1+2 T:3  Model:3  \u001b[92m☑\u001b[0m\n",
      "  Q:1+2 T:3  Model:3  \u001b[92m☑\u001b[0m\n",
      "  Q:9+6 T:15 Model:15 \u001b[92m☑\u001b[0m\n",
      "  Q:3+7 T:10 Model:10 \u001b[92m☑\u001b[0m\n",
      "  Q:5+2 T:7  Model:7  \u001b[92m☑\u001b[0m\n",
      "  Q:2+3 T:5  Model:5  \u001b[92m☑\u001b[0m\n",
      "  Q:8+4 T:12 Model:12 \u001b[92m☑\u001b[0m\n"
     ]
    }
   ],
   "source": [
    "print(x_train.shape,y_train.shape,x_val.shape,y_val.shape)\n",
    "\n",
    "set_seed()\n",
    "history = train(model,ctable,\n",
    "          x_train,y_train,x_val,y_val,\n",
    "          nb_epochs=2001,print_every=400,BATCH_SIZE=128)"
   ]
  },
  {
   "cell_type": "markdown",
   "metadata": {},
   "source": [
    "## The validation loss and the training loss\n",
    "This small model performs surprisingly well.\n",
    "Since both training and testing data contain all possible samples, the model performance in the two data is the same."
   ]
  },
  {
   "cell_type": "code",
   "execution_count": 12,
   "metadata": {},
   "outputs": [
    {
     "data": {
      "image/png": "[encoded data removed]",
      "text/plain": [
       "<matplotlib.figure.Figure at 0x7f423c109190>"
      ]
     },
     "metadata": {},
     "output_type": "display_data"
    }
   ],
   "source": [
    "def plot_loss_acc(history):\n",
    "    fig = plt.figure(figsize=(20,8))\n",
    "    labels = [[\"acc\",\"val_acc\"],[\"loss\",\"val_loss\"]]\n",
    "\n",
    "    count = 1\n",
    "    for ilab in range(len(labels)):\n",
    "        ax = fig.add_subplot(2,1,count)\n",
    "        count += 1\n",
    "        for label in labels[ilab]:\n",
    "            ax.plot(history[label],label=label)\n",
    "            ax.set_xlabel(\"epochs\")    \n",
    "        plt.legend()\n",
    "    plt.show()\n",
    "plot_loss_acc(history)\n"
   ]
  },
  {
   "cell_type": "markdown",
   "metadata": {},
   "source": [
    "## Plot encoders\n",
    "\n",
    "My encoder only has 1 dimention.\n",
    "\n",
    "I plot the values of this encoder for every possible sample values.\n",
    "\n",
    "The plot shows that 1 + 3, 2 + 2 and 3 + 1 receive the same encoder value.\n",
    "Similarly, 1 + 5, 2 + 4, 3 + 3, 4 + 2 and 1 + 5  receive the same encoder value.\n",
    "\n",
    "In fact, plot shows that the ecoder seems to record the (scaled) values of summation.\n",
    "Encoders discard the infomation of what original digits were and remember only the summation values.\n",
    "\n"
   ]
  },
  {
   "cell_type": "code",
   "execution_count": 13,
   "metadata": {},
   "outputs": [
    {
     "data": {
      "image/png": "[encoded data removed]",
      "text/plain": [
       "<matplotlib.figure.Figure at 0x7f42abbf16d0>"
      ]
     },
     "metadata": {},
     "output_type": "display_data"
    }
   ],
   "source": [
    "import seaborn as sns\n",
    "import pandas as pd \n",
    "\n",
    "hidden = {\"encoder\": [],\"num1\":[],\"num2\":[]}\n",
    "for num1 in range(10):\n",
    "    for num2 in range(10):\n",
    "        string = \"{}+{}\".format(num1,num2)\n",
    "        myx = ctable.encode(string,MAXLEN)\n",
    "        e = encoder.predict(myx.reshape(1,myx.shape[0],myx.shape[1]))[0]\n",
    "        ## notice that the predicted encoders are duplicated twice k = 1 , 2 \n",
    "        ## because of repeatVector\n",
    "        ## we only extract one of the vector.\n",
    "        if ~ np.all(e[0] == e[1]): ## should never be TRUE!\n",
    "            print(\"ERROR!\") \n",
    "        h = e[0]\n",
    "        hidden[\"encoder\"].append(h[0])    \n",
    "        hidden[\"num1\"].append(num1)\n",
    "        hidden[\"num2\"].append(num2)\n",
    "hidden = pd.DataFrame(hidden)\n",
    "sns.set()\n",
    "plt.figure(figsize=(10,8))\n",
    "sns.heatmap(hidden.pivot(\"num1\",\"num2\",\"encoder\"))\n",
    "plt.title(\"encoder\\n num1 + num2\")\n",
    "plt.show()\n"
   ]
  },
  {
   "cell_type": "markdown",
   "metadata": {},
   "source": [
    "# Deep learning calculators for more complex calculations\n",
    "Now I consider creating a deep learning calculator for more complex calculations: \n",
    "\n",
    "- Mupltiple operations: summation (+), negation (-), multiplication (*) and devision (/).\n",
    "- Number of digits up to 3 (i.e., 0 - 999) as an input\n",
    "- Allow \" \" to appear in the input calculation e.g., \"1 23 + 3  12\" = \"123+312\". However, output is clean: it does not contain space in between digits.\n",
    "\n",
    "This results in more characters in my character dictionary.\n",
    "In addition to '0123456789+ ', now I have '-*/Na'. Na arises because when a number is devided by 0 the output sould be \"NaN   \".\n",
    "\n",
    "I consider integer devision. This means, for example,  1/3 = 0, 5/3=1.\n",
    "\n",
    "\n",
    "I tried to train a model with the trainig data having the same size, i.e., 10,000. But it seemd that 10,000 samples is not enough to create a generalizable model. This makes sense because previously we only have 100 combinatiosn of problems (=10x10). But now, there are 4 million (4,000,000 = 4*1,000^2) combinations of problems (even excluding the spaces that can randomly appear in the left hand side of the equation). The problem is much more complex! I demonstrate the data training with 100,000 samples.  "
   ]
  },
  {
   "cell_type": "code",
   "execution_count": 20,
   "metadata": {},
   "outputs": [
    {
     "name": "stdout",
     "output_type": "stream",
     "text": [
      "The number of characters in dictionary: 17\n",
      "Generating data...\n",
      "0 samples are generated...\n",
      "10000 samples are generated...\n",
      "20000 samples are generated...\n",
      "30000 samples are generated...\n",
      "40000 samples are generated...\n",
      "50000 samples are generated...\n",
      "60000 samples are generated...\n",
      "70000 samples are generated...\n",
      "80000 samples are generated...\n",
      "90000 samples are generated...\n",
      "Total addition questions:100000\n"
     ]
    }
   ],
   "source": [
    "## \"N\" and \"a\" are  \n",
    "set_seed()\n",
    "TRAINING_SIZE = 100000\n",
    "\n",
    "chars2 = '0123456789+-*/Na ' \n",
    "print(\"The number of characters in dictionary: {}\".format(len(chars2)))\n",
    "ctable2 = CharacterTable(chars2) \n",
    "DIGITS = 3\n",
    "\n",
    "MAXLEN_x = DIGITS + 1 + DIGITS\n",
    "## Maximum length of the output would occur \n",
    "## when 99999x99999=9,999,800,001 which has length 10\n",
    "MAXLEN_y = int(np.ceil(np.log10( ((10**DIGITS)-1)**2 )))\n",
    "\n",
    "def frand(): \n",
    "    st = ''\n",
    "    for i in range(DIGITS):\n",
    "        st += str(np.random.choice(list('0123456789 ')))\n",
    "    if st==' '*DIGITS:\n",
    "          st = frand()          \n",
    "    return st\n",
    "## arithmetic operation\n",
    "foperation = lambda: np.random.choice(list('+/*-')) \n",
    "\n",
    "def get_answer(a,b,oper):\n",
    "    clean = lambda a: int(a.replace(\" \",\"\")) \n",
    "    a = clean(a)\n",
    "    b = clean(b)\n",
    "    if oper==\"+\":\n",
    "        out = a + b\n",
    "    elif oper==\"-\":\n",
    "        out = a - b\n",
    "    elif oper==\"*\":\n",
    "        out = a*b\n",
    "    elif oper==\"/\":\n",
    "        if b == 0:\n",
    "            out = \"NaN\"\n",
    "        else:\n",
    "            out = a/b\n",
    "    return(out)\n",
    "\n",
    "questions = [] \n",
    "expected = [] \n",
    " \n",
    "print('Generating data...') \n",
    "while len(questions) < TRAINING_SIZE: \n",
    "    if len(questions) % 10000 == 0:\n",
    "           print(\"{} samples are generated...\".format(len(questions)))\n",
    "\n",
    "    a, b, oper = frand(), frand(), foperation() \n",
    "    \n",
    "    # Pad the data with spaces such that it is always MAXLEN. \n",
    "    q = '{}{}{}'.format(a,oper, b) \n",
    "    query = q + ' ' * (MAXLEN_x - len(q)) \n",
    "    ans = str(get_answer(a,b,oper)) \n",
    "    # Answers can be of maximum size MAXLEN_y. \n",
    "    ans += ' ' * (MAXLEN_y - len(ans))  \n",
    "    questions.append(query) \n",
    "    expected.append(ans) \n",
    "print('Total addition questions:{}'.format( len(questions)))"
   ]
  },
  {
   "cell_type": "markdown",
   "metadata": {},
   "source": [
    "## Example data strings look like:"
   ]
  },
  {
   "cell_type": "code",
   "execution_count": 15,
   "metadata": {},
   "outputs": [
    {
     "name": "stdout",
     "output_type": "stream",
     "text": [
      "226-13  = 213   \n",
      "961+019 = 980   \n",
      "093+400 = 493   \n",
      "173*247 = 42731 \n",
      "480+793 = 1273  \n",
      "461/562 = 0     \n",
      "83 *502 = 41666 \n",
      " 62/446 = 0     \n",
      "3 0-647 = -617  \n",
      "671/ 57 = 11    \n",
      "248/121 = 2     \n",
      "359*081 = 29079 \n",
      "335*979 = 327965\n",
      "333-869 = -536  \n",
      "639/666 = 0     \n",
      " 34/310 = 0     \n",
      "868-910 = -42   \n",
      "134+761 = 895   \n",
      "337/686 = 0     \n",
      "447+009 = 456   \n"
     ]
    }
   ],
   "source": [
    "for q, e in zip(questions,expected)[:20]:\n",
    "    print(\"{} = {}\".format(q,e))"
   ]
  },
  {
   "cell_type": "markdown",
   "metadata": {},
   "source": [
    "## One-hot encoding and split between training and testing."
   ]
  },
  {
   "cell_type": "code",
   "execution_count": 16,
   "metadata": {},
   "outputs": [
    {
     "name": "stdout",
     "output_type": "stream",
     "text": [
      "Vectorization...\n"
     ]
    }
   ],
   "source": [
    "x, y = one_hot_encoder(expected,questions,MAXLEN_x,MAXLEN_y,chars2,ctable2)\n",
    "(x_train, x_val),(y_train, y_val) = split_train_test(x,y)"
   ]
  },
  {
   "cell_type": "markdown",
   "metadata": {},
   "source": [
    "## Define Model\n",
    "This time, I consider LSTM with more nodes and more layers for encoders!\n",
    "\n",
    "Note we also  consider the encoder structure with bottole neck encoder dimention to be 1.\n",
    "This model was converging prohibitably slow: e.g., at epoch 500, it was still about validation accuracy was still as low as 0.6. Due to the computational resource, we consider complex model that converges faster."
   ]
  },
  {
   "cell_type": "code",
   "execution_count": 17,
   "metadata": {},
   "outputs": [
    {
     "name": "stdout",
     "output_type": "stream",
     "text": [
      "_________________________________________________________________\n",
      "Layer (type)                 Output Shape              Param #   \n",
      "=================================================================\n",
      "Input (InputLayer)           (None, 7, 17)             0         \n",
      "_________________________________________________________________\n",
      "encoder1 (LSTM)              (None, 256)               280576    \n",
      "_________________________________________________________________\n",
      "repeat_vector (RepeatVector) (None, 6, 256)            0         \n",
      "_________________________________________________________________\n",
      "decoder1 (LSTM)              (None, 6, 256)            525312    \n",
      "_________________________________________________________________\n",
      "time_distributed_dense (Time (None, 6, 17)             4369      \n",
      "=================================================================\n",
      "Total params: 810,257\n",
      "Trainable params: 810,257\n",
      "Non-trainable params: 0\n",
      "_________________________________________________________________\n"
     ]
    }
   ],
   "source": [
    "set_seed()\n",
    "\n",
    "model2, encoder2 = define_model(MAXLEN_x,MAXLEN_y,chars2,\n",
    "                                HIDDEN_ENCODER=[256],\n",
    "                                HIDDEN_DECODER=[256],\n",
    "                              RNN=layers.LSTM)    \n",
    "\n",
    "model2.compile(loss='categorical_crossentropy', \n",
    "               optimizer='adam', \n",
    "               metrics=['accuracy']) "
   ]
  },
  {
   "cell_type": "markdown",
   "metadata": {},
   "source": [
    "## Training"
   ]
  },
  {
   "cell_type": "code",
   "execution_count": 18,
   "metadata": {
    "scrolled": false
   },
   "outputs": [
    {
     "name": "stdout",
     "output_type": "stream",
     "text": [
      "--------------------------------------------------\n",
      "Iteration 10\n",
      "acc:0.799 loss:0.504 val_acc:0.801 val_loss:0.498 \n",
      "  Q:405*934 T:378270 Model:359600 \u001b[91m☒\u001b[0m\n",
      "  Q:799+472 T:1271   Model:1271   \u001b[92m☑\u001b[0m\n",
      "  Q:33 *952 T:31416  Model:30966  \u001b[91m☒\u001b[0m\n",
      "  Q:283+926 T:1209   Model:1211   \u001b[91m☒\u001b[0m\n",
      "  Q:232+59  T:291    Model:399    \u001b[91m☒\u001b[0m\n",
      "  Q: 88/154 T:0      Model:0      \u001b[92m☑\u001b[0m\n",
      "  Q:412*280 T:115360 Model:110880 \u001b[91m☒\u001b[0m\n",
      "  Q:787+074 T:861    Model:861    \u001b[92m☑\u001b[0m\n",
      "  Q:2 3+ 39 T:62     Model:50     \u001b[91m☒\u001b[0m\n",
      "  Q:1 7/397 T:0      Model:0      \u001b[92m☑\u001b[0m\n",
      "--------------------------------------------------\n",
      "Iteration 20\n",
      "acc:0.904 loss:0.256 val_acc:0.886 val_loss:0.296 \n",
      "  Q:077/558 T:0      Model:0      \u001b[92m☑\u001b[0m\n",
      "  Q:765* 60 T:45900  Model:46300  \u001b[91m☒\u001b[0m\n",
      "  Q:037+3 8 T:75     Model:75     \u001b[92m☑\u001b[0m\n",
      "  Q: 54-721 T:-667   Model:-667   \u001b[92m☑\u001b[0m\n",
      "  Q:308-666 T:-358   Model:-358   \u001b[92m☑\u001b[0m\n",
      "  Q:976/619 T:1      Model:1      \u001b[92m☑\u001b[0m\n",
      "  Q: 19/127 T:0      Model:0      \u001b[92m☑\u001b[0m\n",
      "  Q:982+899 T:1881   Model:1881   \u001b[92m☑\u001b[0m\n",
      "  Q:426/669 T:0      Model:0      \u001b[92m☑\u001b[0m\n",
      "  Q:8  -5 2 T:-44    Model:-44    \u001b[92m☑\u001b[0m\n",
      "--------------------------------------------------\n",
      "Iteration 30\n",
      "acc:0.929 loss:0.197 val_acc:0.894 val_loss:0.293 \n",
      "  Q:236*520 T:122720 Model:123720 \u001b[91m☒\u001b[0m\n",
      "  Q:525/402 T:1      Model:1      \u001b[92m☑\u001b[0m\n",
      "  Q:012-869 T:-857   Model:-857   \u001b[92m☑\u001b[0m\n",
      "  Q:115*615 T:70725  Model:66925  \u001b[91m☒\u001b[0m\n",
      "  Q:419-66  T:353    Model:353    \u001b[92m☑\u001b[0m\n",
      "  Q:838+4 3 T:881    Model:881    \u001b[92m☑\u001b[0m\n",
      "  Q:932*006 T:5592   Model:6632   \u001b[91m☒\u001b[0m\n",
      "  Q: 58*619 T:35902  Model:35742  \u001b[91m☒\u001b[0m\n",
      "  Q:144/353 T:0      Model:0      \u001b[92m☑\u001b[0m\n",
      "  Q:898* 04 T:3592   Model:3992   \u001b[91m☒\u001b[0m\n",
      "--------------------------------------------------\n",
      "Iteration 40\n",
      "acc:0.952 loss:0.139 val_acc:0.889 val_loss:0.359 \n",
      "  Q:923*709 T:654407 Model:655407 \u001b[91m☒\u001b[0m\n",
      "  Q:709- 43 T:666    Model:666    \u001b[92m☑\u001b[0m\n",
      "  Q:64 /269 T:0      Model:0      \u001b[92m☑\u001b[0m\n",
      "  Q:172+618 T:790    Model:790    \u001b[92m☑\u001b[0m\n",
      "  Q:234- 08 T:226    Model:226    \u001b[92m☑\u001b[0m\n",
      "  Q:152-313 T:-161   Model:-161   \u001b[92m☑\u001b[0m\n",
      "  Q:62 *513 T:31806  Model:32346  \u001b[91m☒\u001b[0m\n",
      "  Q:354-1 7 T:337    Model:337    \u001b[92m☑\u001b[0m\n",
      "  Q:535+604 T:1139   Model:1139   \u001b[92m☑\u001b[0m\n",
      "  Q:934*7 2 T:67248  Model:68768  \u001b[91m☒\u001b[0m\n",
      "--------------------------------------------------\n",
      "Iteration 50\n",
      "acc:0.968 loss:0.099 val_acc:0.889 val_loss:0.424 \n",
      "  Q:3 2/525 T:0      Model:0      \u001b[92m☑\u001b[0m\n",
      "  Q:592/864 T:0      Model:0      \u001b[92m☑\u001b[0m\n",
      "  Q:616*016 T:9856   Model:9034   \u001b[91m☒\u001b[0m\n",
      "  Q:53 -08  T:45     Model:55     \u001b[91m☒\u001b[0m\n",
      "  Q:92 +145 T:237    Model:237    \u001b[92m☑\u001b[0m\n",
      "  Q:488*419 T:204472 Model:205772 \u001b[91m☒\u001b[0m\n",
      "  Q:020/312 T:0      Model:0      \u001b[92m☑\u001b[0m\n",
      "  Q:151*607 T:91657  Model:96957  \u001b[91m☒\u001b[0m\n",
      "  Q:507-537 T:-30    Model:-30    \u001b[92m☑\u001b[0m\n",
      "  Q:2 8*649 T:18172  Model:17812  \u001b[91m☒\u001b[0m\n",
      "--------------------------------------------------\n",
      "Iteration 60\n",
      "acc:0.983 loss:0.058 val_acc:0.889 val_loss:0.505 \n",
      "  Q:192*998 T:191616 Model:188778 \u001b[91m☒\u001b[0m\n",
      "  Q:290+24  T:314    Model:314    \u001b[92m☑\u001b[0m\n",
      "  Q:540*034 T:18360  Model:18360  \u001b[92m☑\u001b[0m\n",
      "  Q:368*910 T:334880 Model:330080 \u001b[91m☒\u001b[0m\n",
      "  Q: 07-417 T:-410   Model:-410   \u001b[92m☑\u001b[0m\n",
      "  Q:0 1*642 T:642    Model:642    \u001b[92m☑\u001b[0m\n",
      "  Q: 99/219 T:0      Model:0      \u001b[92m☑\u001b[0m\n",
      "  Q:01 *872 T:872    Model:872    \u001b[92m☑\u001b[0m\n",
      "  Q:8 0*394 T:31520  Model:31780  \u001b[91m☒\u001b[0m\n",
      "  Q:178/654 T:0      Model:0      \u001b[92m☑\u001b[0m\n",
      "--------------------------------------------------\n",
      "Iteration 70\n",
      "acc:0.989 loss:0.039 val_acc:0.883 val_loss:0.623 \n",
      "  Q: 22*841 T:18502  Model:17422  \u001b[91m☒\u001b[0m\n",
      "  Q:298-465 T:-167   Model:-167   \u001b[92m☑\u001b[0m\n",
      "  Q: 94-619 T:-525   Model:-525   \u001b[92m☑\u001b[0m\n",
      "  Q:3 4+035 T:69     Model:69     \u001b[92m☑\u001b[0m\n",
      "  Q:367*213 T:78171  Model:77231  \u001b[91m☒\u001b[0m\n",
      "  Q:6  +0 8 T:14     Model:14     \u001b[92m☑\u001b[0m\n",
      "  Q:215+211 T:426    Model:426    \u001b[92m☑\u001b[0m\n",
      "  Q:035+695 T:730    Model:730    \u001b[92m☑\u001b[0m\n",
      "  Q:3 3*615 T:20295  Model:20765  \u001b[91m☒\u001b[0m\n",
      "  Q:845+416 T:1261   Model:1261   \u001b[92m☑\u001b[0m\n",
      "--------------------------------------------------\n",
      "Iteration 80\n",
      "acc:0.990 loss:0.037 val_acc:0.884 val_loss:0.670 \n",
      "  Q:121+944 T:1065   Model:1065   \u001b[92m☑\u001b[0m\n",
      "  Q: 08+933 T:941    Model:941    \u001b[92m☑\u001b[0m\n",
      "  Q:368+626 T:994    Model:994    \u001b[92m☑\u001b[0m\n",
      "  Q:751-895 T:-144   Model:-144   \u001b[92m☑\u001b[0m\n",
      "  Q:913/495 T:1      Model:1      \u001b[92m☑\u001b[0m\n",
      "  Q:305/381 T:0      Model:0      \u001b[92m☑\u001b[0m\n",
      "  Q:511+  7 T:518    Model:528    \u001b[91m☒\u001b[0m\n",
      "  Q: 19/187 T:0      Model:0      \u001b[92m☑\u001b[0m\n",
      "  Q:293/ 11 T:26     Model:26     \u001b[92m☑\u001b[0m\n",
      "  Q:040-889 T:-849   Model:-849   \u001b[92m☑\u001b[0m\n",
      "--------------------------------------------------\n",
      "Iteration 90\n",
      "acc:0.993 loss:0.027 val_acc:0.884 val_loss:0.710 \n",
      "  Q:731/15  T:48     Model:48     \u001b[92m☑\u001b[0m\n",
      "  Q:013*567 T:7371   Model:7471   \u001b[91m☒\u001b[0m\n",
      "  Q:008*013 T:104    Model:144    \u001b[91m☒\u001b[0m\n",
      "  Q:424*260 T:110240 Model:100460 \u001b[91m☒\u001b[0m\n",
      "  Q: 95*529 T:50255  Model:58135  \u001b[91m☒\u001b[0m\n",
      "  Q: 67*294 T:19698  Model:20058  \u001b[91m☒\u001b[0m\n",
      "  Q:33 *952 T:31416  Model:32756  \u001b[91m☒\u001b[0m\n",
      "  Q:142+201 T:343    Model:343    \u001b[92m☑\u001b[0m\n",
      "  Q:806/559 T:1      Model:1      \u001b[92m☑\u001b[0m\n",
      "  Q:648-055 T:593    Model:593    \u001b[92m☑\u001b[0m\n"
     ]
    }
   ],
   "source": [
    "set_seed()\n",
    "history2 = train(model2,ctable2,\n",
    "                x_train,y_train,x_val,y_val,\n",
    "                nb_epochs=100,#2000\n",
    "                print_every=10,\n",
    "                BATCH_SIZE=64)"
   ]
  },
  {
   "cell_type": "markdown",
   "metadata": {},
   "source": [
    "## Plot validation and accuracy over epochs\n",
    "\n",
    "The validation loss starts increasing after 30 epochs indicating that the model overfits.\n",
    "On the other hand, the overfitting behavior cannot be seen from the validation accuracy (it remains the same (and not decreasing) after the 40 epochs.)\n",
    "This is probably because the accuracy is a more \"corse\" measure than the \"softmax-categorical_crossentropy\" which was used as our loss.\n",
    "\n",
    "I would increase training sample size or change the model structure to improve the model performance."
   ]
  },
  {
   "cell_type": "code",
   "execution_count": 19,
   "metadata": {},
   "outputs": [
    {
     "data": {
      "image/png": "[encoded data removed]",
      "text/plain": [
       "<matplotlib.figure.Figure at 0x7f42ab93d710>"
      ]
     },
     "metadata": {},
     "output_type": "display_data"
    }
   ],
   "source": [
    "plot_loss_acc(history2)"
   ]
  },
  {
   "cell_type": "markdown",
   "metadata": {},
   "source": [
    "# Model performance\n",
    "The code block below shows the randomly selected 100 validation samples.\n",
    "It is clear that the model performance is reasonable in many problems but the performance becomes poor when the solution requires more than 4 digits."
   ]
  },
  {
   "cell_type": "code",
   "execution_count": 30,
   "metadata": {},
   "outputs": [
    {
     "name": "stdout",
     "output_type": "stream",
     "text": [
      "  Q:478+629 T:1107   Model:1107   \u001b[92m☑\u001b[0m\n",
      "  Q:383*249 T:95367  Model:944977 \u001b[91m☒\u001b[0m\n",
      "  Q:231-94  T:137    Model:137    \u001b[92m☑\u001b[0m\n",
      "  Q:841/232 T:3      Model:3      \u001b[92m☑\u001b[0m\n",
      "  Q:151+448 T:599    Model:597    \u001b[91m☒\u001b[0m\n",
      "  Q:539-661 T:-122   Model:-122   \u001b[92m☑\u001b[0m\n",
      "  Q:9 5*474 T:45030  Model:44070  \u001b[91m☒\u001b[0m\n",
      "  Q:801+180 T:981    Model:981    \u001b[92m☑\u001b[0m\n",
      "  Q:767/260 T:2      Model:2      \u001b[92m☑\u001b[0m\n",
      "  Q:079/983 T:0      Model:0      \u001b[92m☑\u001b[0m\n",
      "  Q:180+926 T:1106   Model:1106   \u001b[92m☑\u001b[0m\n",
      "  Q:411+515 T:926    Model:926    \u001b[92m☑\u001b[0m\n",
      "  Q: 78/983 T:0      Model:0      \u001b[92m☑\u001b[0m\n",
      "  Q:067+029 T:96     Model:96     \u001b[92m☑\u001b[0m\n",
      "  Q:595+ 76 T:671    Model:671    \u001b[92m☑\u001b[0m\n",
      "  Q:182/691 T:0      Model:0      \u001b[92m☑\u001b[0m\n",
      "  Q:  5+800 T:805    Model:805    \u001b[92m☑\u001b[0m\n",
      "  Q:238-617 T:-379   Model:-379   \u001b[92m☑\u001b[0m\n",
      "  Q: 05- 64 T:-59    Model:-59    \u001b[92m☑\u001b[0m\n",
      "  Q:734-59  T:675    Model:675    \u001b[92m☑\u001b[0m\n",
      "  Q:53 +037 T:90     Model:80     \u001b[91m☒\u001b[0m\n",
      "  Q:326-157 T:169    Model:169    \u001b[92m☑\u001b[0m\n",
      "  Q:681+695 T:1376   Model:1376   \u001b[92m☑\u001b[0m\n",
      "  Q:1 0/6 9 T:0      Model:0      \u001b[92m☑\u001b[0m\n",
      "  Q:825/518 T:1      Model:1      \u001b[92m☑\u001b[0m\n",
      "  Q:3 4/809 T:0      Model:0      \u001b[92m☑\u001b[0m\n",
      "  Q:097+312 T:409    Model:409    \u001b[92m☑\u001b[0m\n",
      "  Q:435*892 T:388020 Model:388180 \u001b[91m☒\u001b[0m\n",
      "  Q:699+420 T:1119   Model:1109   \u001b[91m☒\u001b[0m\n",
      "  Q:2 8/985 T:0      Model:0      \u001b[92m☑\u001b[0m\n",
      "  Q:574+725 T:1299   Model:1299   \u001b[92m☑\u001b[0m\n",
      "  Q:35 -581 T:-546   Model:-546   \u001b[92m☑\u001b[0m\n",
      "  Q: 98/171 T:0      Model:0      \u001b[92m☑\u001b[0m\n",
      "  Q:679-237 T:442    Model:442    \u001b[92m☑\u001b[0m\n",
      "  Q:088+401 T:489    Model:489    \u001b[92m☑\u001b[0m\n",
      "  Q:390/007 T:55     Model:52     \u001b[91m☒\u001b[0m\n",
      "  Q:577/091 T:6      Model:6      \u001b[92m☑\u001b[0m\n",
      "  Q:887*909 T:806283 Model:811773 \u001b[91m☒\u001b[0m\n",
      "  Q:225+324 T:549    Model:549    \u001b[92m☑\u001b[0m\n",
      "  Q:165/0 0 T:NaN    Model:NaN    \u001b[92m☑\u001b[0m\n",
      "  Q:551- 1  T:550    Model:550    \u001b[92m☑\u001b[0m\n",
      "  Q:15 -747 T:-732   Model:-732   \u001b[92m☑\u001b[0m\n",
      "  Q: 63+520 T:583    Model:583    \u001b[92m☑\u001b[0m\n",
      "  Q:251+158 T:409    Model:309    \u001b[91m☒\u001b[0m\n",
      "  Q:698-518 T:180    Model:180    \u001b[92m☑\u001b[0m\n",
      "  Q:3 1+980 T:1011   Model:1011   \u001b[92m☑\u001b[0m\n",
      "  Q:970/902 T:1      Model:1      \u001b[92m☑\u001b[0m\n",
      "  Q:183*53  T:9699   Model:1669   \u001b[91m☒\u001b[0m\n",
      "  Q:294-213 T:81     Model:71     \u001b[91m☒\u001b[0m\n",
      "  Q:707+400 T:1107   Model:1107   \u001b[92m☑\u001b[0m\n",
      "  Q:402+846 T:1248   Model:1248   \u001b[92m☑\u001b[0m\n",
      "  Q:533/971 T:0      Model:0      \u001b[92m☑\u001b[0m\n",
      "  Q:2 7+549 T:576    Model:576    \u001b[92m☑\u001b[0m\n",
      "  Q:654-805 T:-151   Model:-151   \u001b[92m☑\u001b[0m\n",
      "  Q:974/609 T:1      Model:1      \u001b[92m☑\u001b[0m\n",
      "  Q:783+540 T:1323   Model:1323   \u001b[92m☑\u001b[0m\n",
      "  Q:01 *835 T:835    Model:835    \u001b[92m☑\u001b[0m\n",
      "  Q:068*650 T:44200  Model:44400  \u001b[91m☒\u001b[0m\n",
      "  Q:071-566 T:-495   Model:-495   \u001b[92m☑\u001b[0m\n",
      "  Q:390/821 T:0      Model:0      \u001b[92m☑\u001b[0m\n",
      "  Q:794+954 T:1748   Model:1748   \u001b[92m☑\u001b[0m\n",
      "  Q: 17-323 T:-306   Model:-306   \u001b[92m☑\u001b[0m\n",
      "  Q:386-042 T:344    Model:344    \u001b[92m☑\u001b[0m\n",
      "  Q:797*354 T:282138 Model:270618 \u001b[91m☒\u001b[0m\n",
      "  Q:1  /44  T:0      Model:0      \u001b[92m☑\u001b[0m\n",
      "  Q:531+299 T:830    Model:820    \u001b[91m☒\u001b[0m\n",
      "  Q:357*6 8 T:24276  Model:22716  \u001b[91m☒\u001b[0m\n",
      "  Q:862*608 T:524096 Model:528016 \u001b[91m☒\u001b[0m\n",
      "  Q:7 5*36  T:2700   Model:2600   \u001b[91m☒\u001b[0m\n",
      "  Q:326/ 13 T:25     Model:20     \u001b[91m☒\u001b[0m\n",
      "  Q:538+214 T:752    Model:752    \u001b[92m☑\u001b[0m\n",
      "  Q:713/ 54 T:13     Model:13     \u001b[92m☑\u001b[0m\n",
      "  Q:126+013 T:139    Model:139    \u001b[92m☑\u001b[0m\n",
      "  Q:906* 2  T:1812   Model:1972   \u001b[91m☒\u001b[0m\n",
      "  Q:39 /0 7 T:5      Model:5      \u001b[92m☑\u001b[0m\n",
      "  Q:664*5 7 T:37848  Model:37348  \u001b[91m☒\u001b[0m\n",
      "  Q:790+914 T:1704   Model:1704   \u001b[92m☑\u001b[0m\n",
      "  Q:909*1 6 T:14544  Model:14564  \u001b[91m☒\u001b[0m\n",
      "  Q:49 *529 T:25921  Model:25981  \u001b[91m☒\u001b[0m\n",
      "  Q:299+308 T:607    Model:607    \u001b[92m☑\u001b[0m\n",
      "  Q:040+503 T:543    Model:543    \u001b[92m☑\u001b[0m\n",
      "  Q:47 -088 T:-41    Model:-41    \u001b[92m☑\u001b[0m\n",
      "  Q:525/3 1 T:16     Model:17     \u001b[91m☒\u001b[0m\n",
      "  Q:479+981 T:1460   Model:1460   \u001b[92m☑\u001b[0m\n",
      "  Q:731-358 T:373    Model:373    \u001b[92m☑\u001b[0m\n",
      "  Q:96 *856 T:82176  Model:81536  \u001b[91m☒\u001b[0m\n",
      "  Q: 65-541 T:-476   Model:-476   \u001b[92m☑\u001b[0m\n",
      "  Q:806+323 T:1129   Model:1129   \u001b[92m☑\u001b[0m\n",
      "  Q:099* 73 T:7227   Model:7287   \u001b[91m☒\u001b[0m\n",
      "  Q:481-06  T:475    Model:475    \u001b[92m☑\u001b[0m\n",
      "  Q: 89/6 4 T:1      Model:1      \u001b[92m☑\u001b[0m\n",
      "  Q:080/919 T:0      Model:0      \u001b[92m☑\u001b[0m\n",
      "  Q:917-741 T:176    Model:176    \u001b[92m☑\u001b[0m\n",
      "  Q:449-565 T:-116   Model:-116   \u001b[92m☑\u001b[0m\n",
      "  Q:851-67  T:784    Model:794    \u001b[91m☒\u001b[0m\n",
      "  Q:427/083 T:5      Model:5      \u001b[92m☑\u001b[0m\n",
      "  Q:76 *00  T:0      Model:0      \u001b[92m☑\u001b[0m\n",
      "  Q:101+30  T:131    Model:131    \u001b[92m☑\u001b[0m\n",
      "  Q:961*179 T:172019 Model:168879 \u001b[91m☒\u001b[0m\n",
      "  Q:6 2+ 5  T:67     Model:67     \u001b[92m☑\u001b[0m\n"
     ]
    }
   ],
   "source": [
    "set_seed(1)\n",
    "random_index = np.random.choice(x_val.shape[0],100,replace=False)\n",
    "print_predicted(x_val[random_index],\n",
    "                y_val[random_index],\n",
    "                model2,ctable2,colors)"
   ]
  }
 ],
 "metadata": {
  "kernelspec": {
   "display_name": "Python 2",
   "language": "python",
   "name": "python2"
  },
  "language_info": {
   "codemirror_mode": {
    "name": "ipython",
    "version": 2
   },
   "file_extension": ".py",
   "mimetype": "text/x-python",
   "name": "python",
   "nbconvert_exporter": "python",
   "pygments_lexer": "ipython2",
   "version": "2.7.13"
  }
 },
 "nbformat": 4,
 "nbformat_minor": 2
}
