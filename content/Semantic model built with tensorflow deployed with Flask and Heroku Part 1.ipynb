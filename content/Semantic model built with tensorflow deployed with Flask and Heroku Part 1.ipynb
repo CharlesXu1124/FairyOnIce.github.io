{
 "cells": [
  {
   "cell_type": "markdown",
   "metadata": {
    "collapsed": false
   },
   "source": [
    "Once you create a cool deep learning application, next step is to deploy it so that anyone all over the world can use your cool application. In this blog and \n",
    "[the next blog](https://fairyonice.github.io/Semantic-model-built-with-tensorflow-deployed-with-Flask-and-Heroku-Part-2.html), I will explore simple ways to deploy deep learning models into a public cloud platform. This blog will focus on the model development phase. \n",
    "\n",
    "\n",
    "Quick google search shows there are various public clouds that let us deploy our model: \n",
    "\n",
    "- [Amazon Web Service](https://aws.amazon.com/blogs/machine-learning/how-to-deploy-deep-learning-models-with-aws-lambda-and-tensorflow/)\n",
    "- [Google Cloud](https://cloud.google.com/ml-engine/docs/deploying-models)\n",
    "- [Heroku](https://www.heroku.com/)\n",
    "\n",
    "\n",
    "The great advantages of AWS and Google cloud is that they offer GPU instances. However, it requires [DevOps work needed to set up a server](https://medium.com/@burgalon/deploying-your-keras-model-35648f9dc5fb) i.e., it takes longer for setting up the server. While Heroku does not offer GPU instance, it is VERY easy to set up and host at most 5 applications FOR FREE. It seems that Heroku is a good place to learn deployment in general for the first time. So this blog will use Heroku as a tool.\n",
    "\n",
    "\n",
    "In the first blog post, I will create a simple deep learning model for sentiment analysis using tensor-flow. The model takes tweet or short text as a sentence and return the likelihood of happiness. \n",
    "Although it is relatively easy to deploy a prediction model to Heroku, this comes with some costs: for example, maximum slug size is [500 MB](https://devcenter.heroku.com/changelog-items/1145) or [ a request has not been processed by a worker within 30 secounds](https://devcenter.heroku.com/articles/error-codes#h13-connection-closed-without-response). Because of these restrictions, my focus in this blog was to simplify the model and to reduce the size of the model weights. \n",
    "\n",
    "[In the next blog](https://fairyonice.github.io/Semantic-model-built-with-tensorflow-deployed-with-Flask-and-Heroku-Part-2.html), I will discuss how to deploy this model in Heroku. If you are not interested in the model development, I recommend you to jump to the second phase.\n",
    "\n",
    "## To motivate the readers, [click here to see my deployed web app](http://simple-text-prediction.herokuapp.com/) \n",
    "\n",
    "### Reference:\n",
    "- [Deep learning semantic model built with tensorflow deployed using Flask and Heroku Part 1 (Model Development)](https://fairyonice.github.io/Semantic-model-built-with-tensorflow-deployed-with-Flask-and-Heroku-Part-1.html)\n",
    "- [Deep learning semantic model built with tensorflow deployed using Flask and Heroku Part 2 (Deployment)](https://fairyonice.github.io/Semantic-model-built-with-tensorflow-deployed-with-Flask-and-Heroku-Part-2.html)"
   ]
  },
  {
   "cell_type": "markdown",
   "metadata": {},
   "source": [
    "#  Sentiment analysis model development\n",
    "\n",
    "Social media is a great place to share your thoughts about anything to anyone. \n",
    "Social media became a important place to learn public opinions.\n",
    "Especially twitter is considered one of the most important place for this purpose because of its scale, diversity of topics and public access to the contents.\n",
    "\n",
    "[SemEval](http://alt.qcri.org/semeval2017/task4/) offers public tweet dataset that researchers can share task on Sentiment Analysis on Twitter. The task ran in 2013, 2014, 2015 and 2016, attracting over 40+ participating teams in all four editions. I will use their public labeled data to develop a model that tells the happiness level.\n",
    "\n",
    "I will first create a simgle layer LSTM model. Later, I will try transfer learning using GloVe weights.\n",
    "\n",
    "To start, I import necessary modules."
   ]
  },
  {
   "cell_type": "code",
   "execution_count": 1,
   "metadata": {
    "collapsed": false
   },
   "outputs": [
    {
     "name": "stdout",
     "output_type": "stream",
     "text": [
      "python 2.7.13 |Anaconda 4.3.1 (64-bit)| (default, Dec 20 2016, 23:09:15) \n",
      "[GCC 4.4.7 20120313 (Red Hat 4.4.7-1)]\n",
      "tensorflow version 1.5.0\n"
     ]
    }
   ],
   "source": [
    "import matplotlib.pyplot as plt\n",
    "import sys, time, os, warnings \n",
    "import numpy as np\n",
    "import pandas as pd \n",
    "from collections import Counter \n",
    "\n",
    "import os\n",
    "os.environ[\"CUDA_VISIBLE_DEVICES\"] = \"0\" #\"2,3\" GPU 2 and 3 is only visible\n",
    "import tensorflow as tf\n",
    "\n",
    "warnings.filterwarnings(\"ignore\")\n",
    "print(\"python {}\".format(sys.version))\n",
    "print(\"tensorflow version {}\".format(tf.__version__))\n",
    "\n",
    "\n",
    "def set_seed(sd=123):\n",
    "    from numpy.random import seed\n",
    "    from tensorflow import set_random_seed\n",
    "    import random as rn\n",
    "    ## numpy random seed\n",
    "    seed(sd)\n",
    "    ## core python's random number \n",
    "    rn.seed(sd)\n",
    "    ## tensor flow's random number\n",
    "    set_random_seed(sd)"
   ]
  },
  {
   "cell_type": "markdown",
   "metadata": {},
   "source": [
    "## Download data from SemEval website\n",
    "The data is downloaded from [here](http://alt.qcri.org/semeval2017/task4/index.php?id=download-the-full-training-data-for-semeval-2017-task-4) and located at the following directory."
   ]
  },
  {
   "cell_type": "code",
   "execution_count": 2,
   "metadata": {
    "collapsed": true
   },
   "outputs": [],
   "source": [
    "dir_data = \"../Sentiment/2017_English_final/GOLD/Subtask_A/\""
   ]
  },
  {
   "cell_type": "code",
   "execution_count": 3,
   "metadata": {
    "collapsed": false
   },
   "outputs": [
    {
     "name": "stdout",
     "output_type": "stream",
     "text": [
      "livejournal-2014test-A.tsv  twitter-2014test-A.txt\r\n",
      "README.txt                  twitter-2015test-A.txt\r\n",
      "sms-2013test-A.tsv          twitter-2015train-A.txt\r\n",
      "twitter-2013dev-A.txt       twitter-2016dev-A.txt\r\n",
      "twitter-2013test-A.txt      twitter-2016devtest-A.txt\r\n",
      "twitter-2013train-A.txt     twitter-2016test-A.txt\r\n",
      "twitter-2014sarcasm-A.txt   twitter-2016train-A.txt\r\n"
     ]
    }
   ],
   "source": [
    "ls $dir_data"
   ]
  },
  {
   "cell_type": "markdown",
   "metadata": {},
   "source": [
    "## Load dataset\n",
    "I will only use the training data because only training data contains labels."
   ]
  },
  {
   "cell_type": "code",
   "execution_count": 4,
   "metadata": {
    "collapsed": false
   },
   "outputs": [
    {
     "name": "stdout",
     "output_type": "stream",
     "text": [
      "combine the data\n"
     ]
    }
   ],
   "source": [
    "def extractData(path_data):\n",
    "    file = open(path_data,'r')\n",
    "    text = file.read()\n",
    "    file.close()\n",
    "\n",
    "    texts = text.split(\"\\n\")\n",
    "    data = []\n",
    "    for line in texts:\n",
    "        cols = line.split(\"\\t\")\n",
    "\n",
    "        data.append(cols)\n",
    "\n",
    "    data = pd.DataFrame(data)\n",
    "    return(data)\n",
    "\n",
    "d = {}\n",
    "for i in [3,5,6]:\n",
    "    path_data = dir_data + \"twitter-201{}train-A.txt\".format(i)\n",
    "    d[path_data] = extractData(path_data)\n",
    "\n",
    "print(\"combine the data\")\n",
    "data = pd.concat(d)    \n",
    "data = data.reset_index()\n",
    "data = data[[1,2]]\n",
    "data.columns = [\"class\",\"text\"]\n",
    "## remove NaN\n",
    "data = data.loc[~data[\"class\"].isnull(),:]"
   ]
  },
  {
   "cell_type": "markdown",
   "metadata": {},
   "source": [
    "### Descriptive analysis\n",
    "The distribution of the positive, neutral and negative tweets.\n",
    "Roughly the same number of positive and negative tweets.\n"
   ]
  },
  {
   "cell_type": "code",
   "execution_count": 5,
   "metadata": {
    "collapsed": false
   },
   "outputs": [
    {
     "data": {
      "image/png": "[encoded data removed]",
      "text/plain": [
       "<matplotlib.figure.Figure at 0x7ff7615ce9d0>"
      ]
     },
     "metadata": {},
     "output_type": "display_data"
    }
   ],
   "source": [
    "c = Counter(data[\"class\"].values)\n",
    "tot = np.sum(c.values())\n",
    "labels = [str(k) + \" \"+ str(np.round(i*100/tot,3))+\"%\" for k,i in c.items()]\n",
    "\n",
    "x = range(len(c))\n",
    "plt.bar(x,c.values())\n",
    "plt.xticks(x,labels)\n",
    "plt.show()"
   ]
  },
  {
   "cell_type": "markdown",
   "metadata": {},
   "source": [
    "## Example tweets\n",
    "Let's take a look at 20 randomly selected raw tweets."
   ]
  },
  {
   "cell_type": "code",
   "execution_count": 6,
   "metadata": {
    "collapsed": false
   },
   "outputs": [
    {
     "name": "stdout",
     "output_type": "stream",
     "text": [
      "positive: @owyposadas see you on Monday!!! SM Bacolod!!! woooohhhh\n",
      "neutral: @KennethBartlet9 Rush said the other day that HRC was worst S.O.S. ever but Kerry is catching up..(may have been quoting someone)\n",
      "positive: We are excited to announce our next Day on the Green on Sunday January 27th  - Australia Day Long Weekend! We are... http://t.co/P8BNE6NV\n",
      "positive: Astrology may be a blasphemous concept to some\\u002c but I am the absolute epitome of my sign. Every last detail.\n",
      "positive: @USC_Zack @broncopeyton @gsf_23 lmfao when May comes around\\u002c watch Zachary cheer for the Bulls or Celtics lololol\n",
      "positive: @jurxssicpratt i just ordered one from Amazon it'll be here on Friday let's fucking rOLL\n",
      "negative: \"Ask for Lil Wayne, get Michael Jackson. Bug me about Wiz Khalifa, get Guns & Roses. The point of the night is to step outside the matrix..\"\n",
      "neutral: Chelsea need to beat Ajax to keep up there battle with Ajax for 2nd place #NextGenSeries\n",
      "neutral: @Steilo_T2G lol yea I did nigga ! & I said wassup _ was tryin to see was u going up to fairground when the sun leave & shit\n",
      "neutral: @mac_b_from_tn yeah but we have Memorial Day\\u002c 4th of July\\u002c Cinco de Mayo\\u002c Thanksgiving\\u002c Presidents Day\\u002c MLK day\\u002c and do they do Labor Day?\n",
      "negative: Think imma go see Flight tomorrow.. Denzel\\u2019s the shit\n",
      "positive: #nowplaying Bob Marley - Sun Is Shining on Surf Shack Radio, The Best Mix of Music on the Beach\n",
      "neutral: Anyone going to Siberia for the HOD show on Saturday?\n",
      "positive: RT @JakeAustinXXX: @tinroom tonight! Come see me and the hottest gogo boys in Dallas!! @gaypornfanatic @bonepilot\n",
      "positive: OMG I can't wait to see what Beyonce is gonna do at the VMA'S Sunday August 28th! http://twitpic.com/62q0w9\n",
      "neutral: Photo: Flatbush Zombies\\u002c Santos Party House October 17th! #ACIDALUMNI (Taken with Instagram) http://t.co/PYtQP9ej\n",
      "neutral: Chelsea are going to write a blank check to Juventus for Pogba tomorrow.\n",
      "negative: \"\\\"\"\"\"No you may not kick it.\\\"\"\"\"  -Tribe Called Quest answering a text from Billy Cundiff\"\n",
      "neutral: Geoff Shackelford: Honda Classic Ratings Up 78%: Michael Hiestand with the http://t.co/bhTkmp2i http://t.co/lpceXHmM\n",
      "positive: Ravens play eagles on the 11th at 730! #GETPUMPED\n"
     ]
    }
   ],
   "source": [
    "Ntweet = 20\n",
    "index = np.random.choice(range(len(data)),Ntweet)\n",
    "for i in index:\n",
    "    row = data.iloc[i,:] \n",
    "    print(\"{:6}: {:}\".format(row.iloc[0],row.iloc[1]))"
   ]
  },
  {
   "cell_type": "markdown",
   "metadata": {},
   "source": [
    "## Give integer labels to indicate the negative, neutral and positive tweets\n",
    "To simplify the problem and focus only on whether the tweet is happy, I will combine the negative and neutral tweets.\n",
    "- Negative : 0\n",
    "- Neutral : 0\n",
    "- Positive : 1\n",
    "\n",
    "This means that the 42% of tweets are 0 and 58% are 1. "
   ]
  },
  {
   "cell_type": "code",
   "execution_count": 7,
   "metadata": {
    "collapsed": false
   },
   "outputs": [],
   "source": [
    "classes = []\n",
    "for cl in data[\"class\"]:\n",
    "    if cl == \"negative\":\n",
    "        classes.append(0)\n",
    "    elif cl == \"positive\":\n",
    "        classes.append(1)\n",
    "    elif cl == \"neutral\":\n",
    "        classes.append(0)\n",
    "    else:\n",
    "        print(\"SHOULD NOT BE HERE\")\n",
    "data[\"class\"] = classes"
   ]
  },
  {
   "cell_type": "markdown",
   "metadata": {},
   "source": [
    "## Text cleaning\n",
    "I need to admit the this text cleaning section needs serious improvement... for example, I should remove URL or hash tags. \n",
    "We should also combine grammatically same words, e.g. \"I've\", \"I have\", \"I hav\" should be all treated the same. \n",
    "Serious text cleaning will improve the model performance substantially. I should also\n",
    "\n",
    "For now, I just do:\n",
    " - get rid of quotes from the text \n",
    " - assign a single space between word and !. So that ! is treated as a single word. Do the same for ?.\n"
   ]
  },
  {
   "cell_type": "code",
   "execution_count": 8,
   "metadata": {
    "collapsed": false
   },
   "outputs": [],
   "source": [
    "import re\n",
    "from copy import copy\n",
    "def clean_text(texts_original):\n",
    "    texts = []\n",
    "    \n",
    "    for text in texts_original:\n",
    "        otext = copy(text)\n",
    "        text = otext.replace(\"!\",\" !\").replace(\"?\",\" ?\")\n",
    "        text = text.replace('\"',\"\")\n",
    "        text = text.replace('“',\"\")\n",
    "        text = text.replace('”',\"\")\n",
    "        if text == \"\":\n",
    "            print(otext)\n",
    "        texts.append(text)\n",
    "    return(texts)\n",
    "\n",
    "data[\"text\"] = clean_text(data[\"text\"].values)"
   ]
  },
  {
   "cell_type": "markdown",
   "metadata": {},
   "source": [
    "## Tokenizer \n",
    "Here I use Keras's preprocessing tokenizer to create a dictionary that maps word string to index ID.\n",
    "I will only extract the 5000 most common words and everything else is ignored."
   ]
  },
  {
   "cell_type": "code",
   "execution_count": 9,
   "metadata": {
    "collapsed": false
   },
   "outputs": [
    {
     "name": "stdout",
     "output_type": "stream",
     "text": [
      "The sentence has 33795 unique words\n",
      "> vocab_size=5001\n"
     ]
    }
   ],
   "source": [
    "from tensorflow.contrib.keras import preprocessing\n",
    "nb_words = 5000\n",
    "tokenizer = preprocessing.text.Tokenizer(nb_words)\n",
    "tokenizer.fit_on_texts(data[\"text\"].values)\n",
    "vocab_size = nb_words + 1\n",
    "\n",
    "index_word = {v: k for k,v in tokenizer.word_index.items()}\n",
    "\n",
    "print(\"The sentence has {} unique words\".format(len(np.unique(tokenizer.word_index.keys()))))\n",
    "print(\"> vocab_size={}\".format(vocab_size ))"
   ]
  },
  {
   "cell_type": "markdown",
   "metadata": {},
   "source": [
    "### Record tokenizer\n",
    "The tokenizer takes a string sentence, and create a list containing index IDs. \n",
    "This tokenizer also needs to be used during prediction to process the input sentence. \n",
    "So I need do save it. In general, tokenizer object can be saved and loaded using pickle as discussed in [stack overflow](https://stackoverflow.com/questions/45735070/keras-text-preprocessing-saving-tokenizer-object-to-file-for-scoring):\n"
   ]
  },
  {
   "cell_type": "markdown",
   "metadata": {},
   "source": [
    "```\n",
    "import pickle\n",
    "\n",
    "# saving\n",
    "with open('tokenizer.pickle', 'wb') as handle:\n",
    "    pickle.dump(tokenizer, handle, protocol=pickle.HIGHEST_PROTOCOL)\n",
    "\n",
    "# loading\n",
    "with open('tokenizer.pickle', 'rb') as handle:\n",
    "    tokenizer = pickle.load(handle)\n",
    "```"
   ]
  },
  {
   "cell_type": "markdown",
   "metadata": {},
   "source": [
    "However, this create 1.5MB pickle object. This may or may not be too large for Heroku application, which only allows 500MB memory space and 30 seconds for every backend calculation.\n",
    "In practice, this tokenizer function is quite simple: it just maps the word and the word index. \n",
    "So instead of saving the tokenizer object itself, I will just record the words in the order of ID and save it into a csv file. This file size is as small as 33KB.\n"
   ]
  },
  {
   "cell_type": "code",
   "execution_count": 10,
   "metadata": {
    "collapsed": false
   },
   "outputs": [],
   "source": [
    "mytokenizer = []\n",
    "for i in range(1,nb_words+1):\n",
    "    mytokenizer.append(index_word[i])\n",
    "pd.DataFrame({\"tokenizer\":mytokenizer}).to_csv(\"tokenizer.csv\",index=False)"
   ]
  },
  {
   "cell_type": "markdown",
   "metadata": {},
   "source": [
    "The following code contains extract word_index dictionary and index_word dictionary from the csv."
   ]
  },
  {
   "cell_type": "code",
   "execution_count": 11,
   "metadata": {
    "collapsed": true
   },
   "outputs": [],
   "source": [
    "def get_word_index_from_csv():\n",
    "    tokenizer = pd.read_csv(\"tokenizer.csv\")[\"tokenizer\"].values\n",
    "    word_index = {}\n",
    "    index_word = {}\n",
    "    for index,word in enumerate(tokenizer,1):\n",
    "        word_index[word]=index\n",
    "        index_word[index]=word\n",
    "    return(word_index,index_word)\n",
    "\n",
    "word_index, index_word = get_word_index_from_csv()\n"
   ]
  },
  {
   "cell_type": "markdown",
   "metadata": {},
   "source": [
    "Now using word_index, encode each sentence."
   ]
  },
  {
   "cell_type": "code",
   "execution_count": 12,
   "metadata": {
    "collapsed": false
   },
   "outputs": [
    {
     "name": "stdout",
     "output_type": "stream",
     "text": [
      "Total Sequences: 16173\n"
     ]
    }
   ],
   "source": [
    "\n",
    "def texts_to_sequences(line):\n",
    "    out = []\n",
    "    for l in line.split():\n",
    "        llower = l.lower()\n",
    "        if llower in word_index.keys():\n",
    "            out.append(word_index[llower])\n",
    "    return(out)\n",
    "\n",
    "\n",
    "N = data.shape[0]\n",
    "prop_train = 0.8\n",
    "Ntrain = int(N*prop_train)\n",
    "Ntest = N - Ntrain\n",
    "\n",
    "sequences, index_train, index_test = [], [], [] \n",
    "count = 0\n",
    "for irow,line in enumerate(data[\"text\"]):\n",
    "    encoded = texts_to_sequences(line)    \n",
    "    sequences.append(encoded)\n",
    "        \n",
    "    if irow < Ntrain:\n",
    "            index_train.append(count)\n",
    "    else:\n",
    "            index_test.append(count)\n",
    "    count += 1\n",
    "print('Total Sequences: %d' % (len(sequences)))"
   ]
  },
  {
   "cell_type": "markdown",
   "metadata": {},
   "source": [
    "Let's look at the example encoded tweets. "
   ]
  },
  {
   "cell_type": "code",
   "execution_count": 13,
   "metadata": {
    "collapsed": false
   },
   "outputs": [
    {
     "name": "stdout",
     "output_type": "stream",
     "text": [
      "irow=13349\n",
      "was(32) having(462) trouble(3840) yesterday(386) downloading(4818) edition(1409) using(1101) google(154) loads(3527) the(1) 1st(46) page(1020) then(100) \n",
      "\n",
      "irow=235\n",
      "paid(1291) a(6) few(482) for(13) a(6) jim(924) white(392) record(612) if(42) i(3) recall(2421) but(30) not(43) in(5) the(1) so(37) i(3) may(21) well(157) be(20) missing(973) the(1) \n",
      "\n",
      "irow=12172\n",
      "watching(142) tomorrow(18) just(28) because(186) conor(419) mcgregor(443) and(8) faber(4685) are(45) the(1) \n",
      "\n",
      "irow=5192\n",
      "going(31) to(2) be(20) here(120) tomorrow(18) have(25) lots(959) to(2) swap(2022) london(450) book(388) swap(2022) via(261) \n",
      "\n",
      "irow=16127\n",
      "anyone(244) want(85) to(2) come(90) to(2) kenny(2470) chesney(3899) and(8) jason(685) at(17) metlife(405) on(4) saturday(52) i(3) have(25) an(80) extra(1029) ticket(604) and(8) by(66) extra(1029) i(3) mean(603) a(6) plus(569) one(61) \n",
      "\n",
      "irow=905\n",
      "safe(896) and(8) sound(729) at(17) airport(2197) feels(1512) good(69) to(2) be(20) back(94) at(17) the(1) land(2103) of(12) rising(1502) sun(103) \n",
      "\n",
      "irow=10955\n",
      "android(695) poor(1737) cousin(3438) to(2) the(1) apple(119) of(12) the(1) a(6) of(12) the(1) \n",
      "\n",
      "irow=7813\n",
      "on(4) the(1) 7(158) hour(662) journey(1439) from(41) uni(3224) to(2) park(200) my(22) real(242) come(90) on(4) newcastle(1983) my(22) 1st(46) european(2447) night(33) at(17) sjp(2993) \n",
      "\n",
      "irow=2895\n",
      "once(706) it(16) can(59) never(246) be(20) i(3) was(32) in(5) constitution(1145) hall(611) last(75) got(96) so(37) much(202) history(767) was(32) almost(642) lost(488) \n",
      "\n",
      "irow=5056\n",
      "enter(2131) our(122) competition(1753) to(2) win(153) a(6) london(450) map(1881) puzzle(3378) just(28) follow(521) and(8) friday(47) \n",
      "\n",
      "irow=144\n",
      "midnight(1695) on(4) the(1) east(979) coast(3032) which(315) means(694) its(151) birthday(147) happy(140) 20th(672) birthday(147) nick(747) j(830) \n",
      "\n",
      "irow=4225\n",
      "allstar(2953) game(53) weekend(236) in(5) texas(1229) for(13) the(1) 21st(750) yea(1359) \n",
      "\n",
      "irow=7751\n",
      "march(237) 16(413) luke(3480) bryan(3586) is(14) gonna(138) at(17) the(1) houston(925) i(3) have(25) to(2) its(151) a(6) must(590) \n",
      "\n",
      "irow=10989\n",
      "en(2035) f(1376) we(40) fail(2291) 1st(46) we(40) chase(2248) 4(121) top(264) 4(121) finish(676) at(17) the(1) end(286) like(49) arsenal(227) \n",
      "\n",
      "irow=14844\n",
      "appeared(3737) on(4) thursday(83) 3(82) at(17) the(1) 14th(692) place(247) in(5) the(1) top20(4672) of(12) \n",
      "\n",
      "irow=3462\n",
      "kevin(756) rudd(1200) out(36) and(8) lives(2015) it(16) up(48) at(17) herald(2628) kevin(756) rudd(1200) out(36) \n",
      "\n",
      "irow=15641\n",
      "lexus(331) 300(4285) black(159) with(19) tan(3466) wednesday(135) it(16) now(64) \n",
      "\n",
      "irow=9394\n",
      "man(201) will(29) be(20) performing(680) at(17) next(110) friday(47) for(13) the(1) contact(1538) for(13) tickets(211) \n",
      "\n",
      "irow=5396\n",
      "yeah(490) best(105) way(197) yeah(490) i(3) had(132) my(22) first(118) one(61) on(4) 2(65) days(278) after(99) my(22) really(160) good(69) love(92) it(16) went(280) on(4) a1(2665) yesterday(386) xx(983) \n",
      "\n",
      "irow=5374\n",
      "hey(403) are(45) you(15) going(31) to(2) blue(1018) diamond(2952) tomorrow(18) and(8) are(45) you(15) driving(1758) \n",
      "\n"
     ]
    }
   ],
   "source": [
    "def print_text(encoded):\n",
    "    '''\n",
    "    encoded : a list containing index e.g. [1, 300, 2]\n",
    "    index_word : dictionary {0 : \"am\", 1 : \"I\", 2 : \".\",..}\n",
    "    '''\n",
    "    for k in encoded:\n",
    "        print(\"{}({})\".format(index_word[k],k)),\n",
    "    print(\"\")\n",
    "set_seed(1)        \n",
    "random_index = np.random.choice(data.shape[0],20)\n",
    "for irow,line in enumerate(data[\"text\"].iloc[random_index]):\n",
    "    encoded = texts_to_sequences(line)    \n",
    "    print(\"irow={}\".format(random_index[irow]))\n",
    "    print_text(encoded)\n",
    "    print(\"\")"
   ]
  },
  {
   "cell_type": "markdown",
   "metadata": {
    "collapsed": false
   },
   "source": [
    "Add zero padding to the sentence that is shorter than the maximum length.\n",
    "This zero padding function will be also necessary in deployment. \n",
    "\n",
    "\n",
    "**X**\n",
    "\n",
    "- X has a shape (N tweets, max length of tweet)\n",
    "- X has zero padding when the original tweet length is less than max length of tweet.\n"
   ]
  },
  {
   "cell_type": "code",
   "execution_count": 14,
   "metadata": {
    "collapsed": false
   },
   "outputs": [
    {
     "name": "stdout",
     "output_type": "stream",
     "text": [
      "Max Sequence Length: 33\n"
     ]
    }
   ],
   "source": [
    "def pad_pre_sequences(arr,maxlen):\n",
    "    lines = []\n",
    "    for iline in range(len(arr)):\n",
    "        oline = arr[iline]\n",
    "        lo = len(oline)\n",
    "        if maxlen > lo:\n",
    "            line = [0]*(maxlen - lo) + list(oline)\n",
    "        else:\n",
    "            \n",
    "            line = oline[:maxlen]\n",
    "        lines.append(line)\n",
    "        if len(line) != maxlen:\n",
    "            print(maxlen)\n",
    "            print(line)\n",
    "            \n",
    "    lines = np.array(lines)\n",
    "    return(lines)\n",
    "\n",
    "max_length = max([len(seq) for seq in sequences])\n",
    "X = pad_pre_sequences(sequences, maxlen=max_length)\n",
    "\n",
    "print('Max Sequence Length: %d' % max_length)"
   ]
  },
  {
   "cell_type": "markdown",
   "metadata": {},
   "source": [
    "One-hot encoding to create **y**\n",
    "\n",
    "- y[i,0] == 1 if the i^th tweet is negative or neutral otherwise 0\n",
    "- y[i,1] == 1 if the i^th tweet is positive otherwise 0"
   ]
  },
  {
   "cell_type": "code",
   "execution_count": 15,
   "metadata": {
    "collapsed": false
   },
   "outputs": [
    {
     "name": "stderr",
     "output_type": "stream",
     "text": [
      "Using TensorFlow backend.\n"
     ]
    }
   ],
   "source": [
    "from keras.utils import to_categorical\n",
    "y = to_categorical(data[\"class\"].values, num_classes=2)"
   ]
  },
  {
   "cell_type": "markdown",
   "metadata": {},
   "source": [
    "Split between training and testing data"
   ]
  },
  {
   "cell_type": "code",
   "execution_count": 16,
   "metadata": {
    "collapsed": false
   },
   "outputs": [],
   "source": [
    "X_train, y_train, X_test, y_test = X[index_train], y[index_train],X[index_test], y[index_test]"
   ]
  },
  {
   "cell_type": "markdown",
   "metadata": {},
   "source": [
    "## Model definition\n",
    "Here, I define a deep learning model with embedding layer + single layer LSTM followed by a single dense layer.\n",
    "Notice that I am using tensorflow to extract Keras's models and layers.\n",
    "I could have extracted these modules directly from Keras. However, somehow Heroku gave me warning when I try to import keras. Importing tensorflow did not yield the same error. This is the reason why I am using tensorflow in this blog post.  "
   ]
  },
  {
   "cell_type": "code",
   "execution_count": 17,
   "metadata": {
    "collapsed": false
   },
   "outputs": [
    {
     "name": "stdout",
     "output_type": "stream",
     "text": [
      "WARNING:tensorflow:From /home/fairy/anaconda2/lib/python2.7/site-packages/tensorflow/python/keras/_impl/keras/backend.py:1456: calling reduce_sum (from tensorflow.python.ops.math_ops) with keep_dims is deprecated and will be removed in a future version.\n",
      "Instructions for updating:\n",
      "keep_dims is deprecated, use keepdims instead\n",
      "WARNING:tensorflow:From /home/fairy/anaconda2/lib/python2.7/site-packages/tensorflow/python/keras/_impl/keras/backend.py:1557: calling reduce_mean (from tensorflow.python.ops.math_ops) with keep_dims is deprecated and will be removed in a future version.\n",
      "Instructions for updating:\n",
      "keep_dims is deprecated, use keepdims instead\n",
      "_________________________________________________________________\n",
      "Layer (type)                 Output Shape              Param #   \n",
      "=================================================================\n",
      "main_input (InputLayer)      (None, 33)                0         \n",
      "_________________________________________________________________\n",
      "embedding_1 (Embedding)      (None, 33, 50)            250050    \n",
      "_________________________________________________________________\n",
      "lstm_1 (LSTM)                (None, 4)                 880       \n",
      "_________________________________________________________________\n",
      "dense_1 (Dense)              (None, 2)                 10        \n",
      "=================================================================\n",
      "Total params: 250,940\n",
      "Trainable params: 250,940\n",
      "Non-trainable params: 0\n",
      "_________________________________________________________________\n",
      "None\n"
     ]
    }
   ],
   "source": [
    "from tensorflow.contrib.keras import models\n",
    "from tensorflow.contrib.keras import layers\n",
    "\n",
    "def define_model(input_length,Embedding,dim_out=2):\n",
    "    \n",
    "    hidden_unit_LSTM = 4\n",
    "    main_input = layers.Input(shape=(input_length,),dtype='int32',name='main_input')\n",
    "    embedding = Embedding(main_input)\n",
    "    x = layers.LSTM(hidden_unit_LSTM)(embedding)\n",
    "    main_output = layers.Dense(dim_out, activation='softmax')(x)\n",
    "    model = models.Model(inputs=[main_input],\n",
    "                  outputs=[main_output])\n",
    "    \n",
    "    # compile network\n",
    "    model.compile(loss='categorical_crossentropy', \n",
    "              optimizer='adam', metrics=['accuracy'])\n",
    "    print(model.summary())\n",
    "    return(model)\n",
    "\n",
    "dim_dense_embedding = 50\n",
    "Embedding1 = layers.Embedding(vocab_size, \n",
    "                              dim_dense_embedding)\n",
    "model1 = define_model(X.shape[1],Embedding1)"
   ]
  },
  {
   "cell_type": "markdown",
   "metadata": {},
   "source": [
    "## Training starts here:"
   ]
  },
  {
   "cell_type": "code",
   "execution_count": 18,
   "metadata": {
    "collapsed": false
   },
   "outputs": [
    {
     "name": "stdout",
     "output_type": "stream",
     "text": [
      "Train on 12938 samples, validate on 3235 samples\n",
      "Epoch 1/10\n",
      " - 15s - loss: 0.6708 - acc: 0.5999 - val_loss: 0.7330 - val_acc: 0.4686\n",
      "Epoch 2/10\n",
      " - 13s - loss: 0.6289 - acc: 0.6450 - val_loss: 0.7690 - val_acc: 0.5168\n",
      "Epoch 3/10\n",
      " - 13s - loss: 0.5290 - acc: 0.7462 - val_loss: 0.7103 - val_acc: 0.5913\n",
      "Epoch 4/10\n",
      " - 13s - loss: 0.4512 - acc: 0.8008 - val_loss: 0.7766 - val_acc: 0.5938\n",
      "Epoch 5/10\n",
      " - 13s - loss: 0.4024 - acc: 0.8337 - val_loss: 0.8021 - val_acc: 0.5963\n",
      "Epoch 6/10\n",
      " - 13s - loss: 0.3726 - acc: 0.8508 - val_loss: 0.8317 - val_acc: 0.6031\n",
      "Epoch 7/10\n",
      " - 13s - loss: 0.3475 - acc: 0.8673 - val_loss: 0.8986 - val_acc: 0.5963\n",
      "Epoch 8/10\n",
      " - 13s - loss: 0.3235 - acc: 0.8818 - val_loss: 1.0821 - val_acc: 0.5598\n",
      "Epoch 9/10\n",
      " - 13s - loss: 0.3093 - acc: 0.8878 - val_loss: 0.9846 - val_acc: 0.5892\n",
      "Epoch 10/10\n",
      " - 13s - loss: 0.2869 - acc: 0.8987 - val_loss: 0.9319 - val_acc: 0.6003\n",
      "Time took: 2.17MIN\n"
     ]
    }
   ],
   "source": [
    "import time \n",
    "start = time.time()\n",
    "hist1 = model1.fit(X_train,y_train,\n",
    "                   validation_data=(X_test,y_test),\n",
    "                   epochs=10,batch_size=64,\n",
    "                   verbose=2)\n",
    "end = time.time()\n",
    "print(\"Time took: {:3.2f}MIN\".format((end - start)/60.0))"
   ]
  },
  {
   "cell_type": "markdown",
   "metadata": {},
   "source": [
    "#### Validation loss and validation accuracies over epochs\n",
    "The validation loss increases very quickly. Model is overfitting. "
   ]
  },
  {
   "cell_type": "code",
   "execution_count": 19,
   "metadata": {
    "collapsed": false
   },
   "outputs": [
    {
     "data": {
      "image/png": "[encoded data removed]",
      "text/plain": [
       "<matplotlib.figure.Figure at 0x7ff745788850>"
      ]
     },
     "metadata": {},
     "output_type": "display_data"
    }
   ],
   "source": [
    "def plot_loss(hist1):\n",
    "    for label in hist1.history.keys():\n",
    "        plt.plot(hist1.history[label],label=label)\n",
    "    plt.legend()\n",
    "    plt.show()\n",
    "plot_loss(hist1)"
   ]
  },
  {
   "cell_type": "markdown",
   "metadata": {},
   "source": [
    "## Attempt 2: GloVe pre-trained weights\n",
    "The model performance was not very good. \n",
    "Let's try to improve the model performance by transfer learning.\n",
    "\n",
    "The researchers behind GloVe method provide a suite of pre-trained word embeddings on their website released under a public domain license. See:\n",
    "\n",
    "- [GloVe: Global Vectors for Word Representation](https://nlp.stanford.edu/projects/glove/)\n",
    "\n",
    "The smallest package of embeddings is called “glove.6B.zip“. \n",
    "\n",
    "Weights are trained with 6 billion tokens (words) with 400,000 vocabularies.\n",
    "There are four dimensions of embedding vectors, i.e., 50d, 100d, 200d, and 300d.\n",
    "\n",
    "```\n",
    "wget 'nlp.stanford.edu/data/glove.6B.zip' \n",
    "```\n",
    "\n",
    "unzipping gives four .txt files:\n",
    "\n",
    "- 164M Aug  4  2014 glove.6B.50d.txt\n",
    "- 332M Aug  4  2014 glove.6B.100d.txt\n",
    "- 662M Aug  4  2014 glove.6B.200d.txt\n",
    "- 990M Aug 27  2014 glove.6B.300d.txt\n",
    "\n",
    "\n",
    "\n",
    "### Reference\n",
    "- [nice example of how to use pre_trained word embedding with Keras](https://github.com/keras-team/keras/blob/master/examples/pretrained_word_embeddings.py)"
   ]
  },
  {
   "cell_type": "code",
   "execution_count": 20,
   "metadata": {
    "collapsed": false
   },
   "outputs": [
    {
     "name": "stdout",
     "output_type": "stream",
     "text": [
      "400000 vocabs \n"
     ]
    }
   ],
   "source": [
    "dim_embedding = 50\n",
    "path_GloVe = \"../output/glove.6B.{}d.txt\".format(dim_embedding)\n",
    "\n",
    "def GloVe_embedding(path_GloVe):\n",
    "    embeddings_index = {}\n",
    "    with open(path_GloVe) as f:\n",
    "        for line in f:\n",
    "            values = line.split()\n",
    "            word = values[0]\n",
    "            coefs = np.asarray(values[1:], dtype='float32')\n",
    "            embeddings_index[word] = coefs\n",
    "    print(\"{} vocabs \".format(len(embeddings_index)))\n",
    "    return(embeddings_index)\n",
    "\n",
    "GloVe_embedding = GloVe_embedding(path_GloVe)"
   ]
  },
  {
   "cell_type": "markdown",
   "metadata": {},
   "source": [
    "## Let's see 50 example tokens in GloVe\n",
    "Some tokens contain digits, all the tokens are in lower case."
   ]
  },
  {
   "cell_type": "code",
   "execution_count": 21,
   "metadata": {
    "collapsed": false
   },
   "outputs": [
    {
     "name": "stdout",
     "output_type": "stream",
     "text": [
      "ksl                  kruszwica            muzhakhoyeva         oberscharführer     toder                \n",
      "bagbazar             frasca               disengaged           minicomputer         embraer              \n",
      "palcy                jicheng              mym                  casariego            vestments            \n",
      "lifejackets          amirian              markie               lemisch              cuisine              \n",
      "rocked               flatterer            nilin                edmonson             safarova             \n",
      "biking               unfavorable          tpn8                 cupa                 cobleskill           \n",
      "laryngology          stadtmuseum          colleagues           hưng                countervailing       \n",
      "drillers             prinn                jaywalker            castaños            384                  \n",
      "wtvh                 first-rate           tennesse             alania-d             mazraeh-ye           \n",
      "hentschel            pollsters            eluding              2xcd                 lapu-lapu            \n"
     ]
    }
   ],
   "source": [
    "set_seed(10)\n",
    "isamples = np.random.choice(len(GloVe_embedding),50)\n",
    "\n",
    "def print_words(words):\n",
    "    count = 1\n",
    "    for word in words:\n",
    "        print(\"{:20}\".format(word)),\n",
    "        if count % 5 == 0:\n",
    "            print(\"\")\n",
    "        count += 1\n",
    "    \n",
    "print_words(np.array(GloVe_embedding.keys())[isamples])"
   ]
  },
  {
   "cell_type": "markdown",
   "metadata": {
    "collapsed": false
   },
   "source": [
    "Now let's look at the vocabularies that do not appear in the GloVe but appear in the top 5000 most frequent words in my SemEval data."
   ]
  },
  {
   "cell_type": "code",
   "execution_count": 22,
   "metadata": {
    "collapsed": false,
    "scrolled": false
   },
   "outputs": [
    {
     "name": "stdout",
     "output_type": "stream",
     "text": [
      "Out of 33795 vocabulary in original data, 33613 exists in the vocabulary of GloVe\n",
      "Following 182 tokens (0.54%) do not exist in GloVe!!\n",
      "----------------------------------------------------------------------------------------------------\n",
      "you're               madonna's            ibm's                we've                samsung's            \n",
      "i've                 trndnl               i'm                  monday's             ticketek             \n",
      "justinbieber         coleswindell         oneil                beiber               cobain's             \n",
      "amandawanxo          hahaha               30pm                 trndnl               i'm                  \n",
      "i'm                  federer's            hillary's            gears3               tomcc                \n",
      "we've                i'm                  monthsary            sanders'             grimmie              \n",
      "15pm                 pinkcity             bush's               tonight's            they'll              \n",
      "xfactor              hillary's            mufc                 00am                 retweet              \n",
      "federer's            isn't                he'll                beyonce's            wasn't               \n",
      "jindal's             rella                don't                obama's              everyone's           \n"
     ]
    }
   ],
   "source": [
    "word_not_in_GloVe= np.array(list(set(word_index.keys()) -  set(GloVe_embedding.keys())))\n",
    "Nvoc = len(tokenizer.word_index.keys())\n",
    "print(\"Out of {} vocabulary in original data, {} exists in the vocabulary of GloVe\".format(\n",
    "     Nvoc, Nvoc - len(word_not_in_GloVe)))\n",
    "print(\"Following {} tokens ({:4.2f}%) do not exist in GloVe!!\".format(\n",
    "    len(word_not_in_GloVe),len(word_not_in_GloVe)*100/float(Nvoc)))\n",
    "print(\"-\"*100)\n",
    "isamples = np.random.choice(len(word_not_in_GloVe),50)\n",
    "print_words(word_not_in_GloVe[isamples])\n"
   ]
  },
  {
   "cell_type": "markdown",
   "metadata": {},
   "source": [
    "Not all the embedding vector is necessary for training. \n",
    "I will simply extract the embedding vectors that appear in our tweeter data."
   ]
  },
  {
   "cell_type": "code",
   "execution_count": 23,
   "metadata": {
    "collapsed": false
   },
   "outputs": [
    {
     "name": "stdout",
     "output_type": "stream",
     "text": [
      " 182 tokens did not exist\n"
     ]
    }
   ],
   "source": [
    "# prepare embedding matrix\n",
    "num_words = len(word_index) + 1\n",
    "embedding_matrix = np.zeros((num_words, dim_embedding))\n",
    "count = 0\n",
    "for word, i in tokenizer.word_index.items():\n",
    "    if i >= nb_words:\n",
    "        continue\n",
    "    embedding_vector = GloVe_embedding.get(word)\n",
    "    if embedding_vector is None:\n",
    "        count+= 1\n",
    "    else:\n",
    "        # words not found in embedding index will be all-zeros.\n",
    "        embedding_matrix[i] = embedding_vector\n",
    "print(\" {} tokens did not exist\".format(count))"
   ]
  },
  {
   "cell_type": "markdown",
   "metadata": {},
   "source": [
    "## Define the model\n",
    "This time, I will provide embedding matrix from GloVe and freeze the parameters.\n",
    "Notice that the model summary shows that there are only 890 trainable weights. These are the weights from LSTM and Dense layers."
   ]
  },
  {
   "cell_type": "code",
   "execution_count": 24,
   "metadata": {
    "collapsed": false
   },
   "outputs": [
    {
     "name": "stdout",
     "output_type": "stream",
     "text": [
      "_________________________________________________________________\n",
      "Layer (type)                 Output Shape              Param #   \n",
      "=================================================================\n",
      "main_input (InputLayer)      (None, 33)                0         \n",
      "_________________________________________________________________\n",
      "embedding_2 (Embedding)      (None, 33, 50)            250050    \n",
      "_________________________________________________________________\n",
      "lstm_2 (LSTM)                (None, 4)                 880       \n",
      "_________________________________________________________________\n",
      "dense_2 (Dense)              (None, 2)                 10        \n",
      "=================================================================\n",
      "Total params: 250,940\n",
      "Trainable params: 890\n",
      "Non-trainable params: 250,050\n",
      "_________________________________________________________________\n",
      "None\n"
     ]
    }
   ],
   "source": [
    "dim_dense_embedding = embedding_matrix.shape[1]\n",
    "Embedding2 = layers.Embedding(vocab_size, dim_dense_embedding,\n",
    "                              weights=[embedding_matrix],\n",
    "                              trainable=False)\n",
    "model2 = define_model(X.shape[1],Embedding2)"
   ]
  },
  {
   "cell_type": "markdown",
   "metadata": {},
   "source": [
    "## Model training"
   ]
  },
  {
   "cell_type": "code",
   "execution_count": 25,
   "metadata": {
    "collapsed": false
   },
   "outputs": [
    {
     "name": "stdout",
     "output_type": "stream",
     "text": [
      "Train on 12938 samples, validate on 3235 samples\n",
      "Epoch 1/10\n",
      " - 13s - loss: 0.6900 - acc: 0.5524 - val_loss: 0.7272 - val_acc: 0.4730\n",
      "Epoch 2/10\n",
      " - 13s - loss: 0.6645 - acc: 0.6072 - val_loss: 0.7178 - val_acc: 0.4943\n",
      "Epoch 3/10\n",
      " - 13s - loss: 0.6508 - acc: 0.6244 - val_loss: 0.6940 - val_acc: 0.5459\n",
      "Epoch 4/10\n",
      " - 13s - loss: 0.6214 - acc: 0.6567 - val_loss: 0.6883 - val_acc: 0.5861\n",
      "Epoch 5/10\n",
      " - 13s - loss: 0.5978 - acc: 0.6855 - val_loss: 0.6833 - val_acc: 0.5917\n",
      "Epoch 6/10\n",
      " - 13s - loss: 0.5831 - acc: 0.6985 - val_loss: 0.6498 - val_acc: 0.6278\n",
      "Epoch 7/10\n",
      " - 13s - loss: 0.5738 - acc: 0.7050 - val_loss: 0.6779 - val_acc: 0.6068\n",
      "Epoch 8/10\n",
      " - 12s - loss: 0.5641 - acc: 0.7143 - val_loss: 0.6725 - val_acc: 0.6207\n",
      "Epoch 9/10\n",
      " - 12s - loss: 0.5586 - acc: 0.7201 - val_loss: 0.6688 - val_acc: 0.6213\n",
      "Epoch 10/10\n",
      " - 13s - loss: 0.5537 - acc: 0.7211 - val_loss: 0.6696 - val_acc: 0.6142\n",
      "Time took: 2.1MIN\n"
     ]
    }
   ],
   "source": [
    "start = time.time()\n",
    "hist2 = model2.fit(X_train,y_train,\n",
    "                 epochs=10,batch_size=64,\n",
    "                 validation_data=(X_test,y_test),\n",
    "                 verbose=2)\n",
    "end = time.time()\n",
    "print(\"Time took: {:3.1f}MIN\".format((end - start)/60.0))"
   ]
  },
  {
   "cell_type": "markdown",
   "metadata": {},
   "source": [
    "#### Validation loss and validation accuracies over epochs\n",
    "The validation loss decreases more by using weights from GloVe. "
   ]
  },
  {
   "cell_type": "code",
   "execution_count": 26,
   "metadata": {
    "collapsed": false
   },
   "outputs": [
    {
     "data": {
      "image/png": "[encoded data removed]",
      "text/plain": [
       "<matplotlib.figure.Figure at 0x7ff7240e9b10>"
      ]
     },
     "metadata": {},
     "output_type": "display_data"
    }
   ],
   "source": [
    "plot_loss(hist2)"
   ]
  },
  {
   "cell_type": "markdown",
   "metadata": {},
   "source": [
    "## Save model 2\n",
    "Save the model weights.\n",
    "In the deployment, the model weights together with the tokenizer's word index are extracted during the prediction. "
   ]
  },
  {
   "cell_type": "code",
   "execution_count": 27,
   "metadata": {
    "collapsed": false
   },
   "outputs": [],
   "source": [
    "model2.save_weights('sentiment_weights.h5')"
   ]
  },
  {
   "cell_type": "markdown",
   "metadata": {},
   "source": [
    "## Model validation with example tweets\n",
    "Hummm the happiness level makes some sense??!\n",
    "In the next blog post, I will deploy this model to web app."
   ]
  },
  {
   "cell_type": "code",
   "execution_count": 28,
   "metadata": {
    "collapsed": false
   },
   "outputs": [
    {
     "name": "stdout",
     "output_type": "stream",
     "text": [
      "_________________________________________________________________\n",
      "Layer (type)                 Output Shape              Param #   \n",
      "=================================================================\n",
      "main_input (InputLayer)      (None, 33)                0         \n",
      "_________________________________________________________________\n",
      "embedding_1 (Embedding)      (None, 33, 50)            250050    \n",
      "_________________________________________________________________\n",
      "lstm_3 (LSTM)                (None, 4)                 880       \n",
      "_________________________________________________________________\n",
      "dense_3 (Dense)              (None, 2)                 10        \n",
      "=================================================================\n",
      "Total params: 250,940\n",
      "Trainable params: 250,940\n",
      "Non-trainable params: 0\n",
      "_________________________________________________________________\n",
      "None\n",
      "Prob(Happy Tweet)=0.632, I feel happy!       \n",
      "Prob(Happy Tweet)=0.665, What a great day!   \n",
      "Prob(Happy Tweet)=0.350, Going to work.      \n",
      "Prob(Happy Tweet)=0.343, I broke up with my boyfriend.\n",
      "Prob(Happy Tweet)=0.914, happy happy         \n",
      "Prob(Happy Tweet)=0.962, happy happy happy happy so happy\n",
      "Prob(Happy Tweet)=0.447, Life sucks          \n",
      "Prob(Happy Tweet)=0.426, I want to kill myself\n",
      "Prob(Happy Tweet)=0.198, kill                \n",
      "Prob(Happy Tweet)=0.073, kill hate hate hate kill\n"
     ]
    }
   ],
   "source": [
    "\n",
    "def predict(line,model):\n",
    "    encoded = texts_to_sequences(line)\n",
    "    sequences = pad_pre_sequences([encoded], maxlen=max_length)\n",
    "    probs = model.predict(sequences)[0]\n",
    "    ## The probability of positive tweet is recorded in the 1st position\n",
    "    return(probs[1])\n",
    "\n",
    "\n",
    "\n",
    "model = define_model(X.shape[1],Embedding1)\n",
    "model.load_weights('sentiment_weights.h5')\n",
    "word_index,_ = get_word_index_from_csv()\n",
    "\n",
    "\n",
    "texts = [\"I feel happy!\",\n",
    "         \"What a great day!\",\n",
    "         \"Going to work.\",\n",
    "         \"I broke up with my boyfriend.\",\n",
    "         \"happy happy\",\n",
    "         \"happy happy happy happy so happy\",\n",
    "         \"Life sucks\",\n",
    "         \"I want to kill myself\",\n",
    "         \"kill\",\n",
    "         \"kill hate hate hate kill\"]\n",
    "for text in texts:\n",
    "    print(\"Prob(Happy Tweet)={:5.3f}, {:20}\".format(predict(text,model2),text))"
   ]
  }
 ],
 "metadata": {
  "kernelspec": {
   "display_name": "Python 2",
   "language": "python",
   "name": "python2"
  },
  "language_info": {
   "codemirror_mode": {
    "name": "ipython",
    "version": 2
   },
   "file_extension": ".py",
   "mimetype": "text/x-python",
   "name": "python",
   "nbconvert_exporter": "python",
   "pygments_lexer": "ipython2",
   "version": "2.7.13"
  }
 },
 "nbformat": 4,
 "nbformat_minor": 2
}
